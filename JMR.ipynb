{
  "nbformat": 4,
  "nbformat_minor": 0,
  "metadata": {
    "colab": {
      "name": "JMR.ipynb",
      "provenance": [],
      "collapsed_sections": [],
      "authorship_tag": "ABX9TyPzBqv2jCteyQY7pggnOs7w",
      "include_colab_link": true
    },
    "kernelspec": {
      "display_name": "Python 3",
      "name": "python3"
    }
  },
  "cells": [
    {
      "cell_type": "markdown",
      "metadata": {
        "id": "view-in-github",
        "colab_type": "text"
      },
      "source": [
        "<a href=\"https://colab.research.google.com/github/notomasz/MZ/blob/master/JMR.ipynb\" target=\"_parent\"><img src=\"https://colab.research.google.com/assets/colab-badge.svg\" alt=\"Open In Colab\"/></a>"
      ]
    },
    {
      "cell_type": "code",
      "metadata": {
        "id": "DNdmFBpx9Ey5",
        "outputId": "974ebd85-fbad-49c7-cbfe-589a7e82dd84",
        "colab": {
          "base_uri": "https://localhost:8080/",
          "height": 295
        }
      },
      "source": [
        "import numpy as np \n",
        "import pandas as pd \n",
        "import re\n",
        "import nltk \n",
        "import matplotlib.pyplot as plt\n",
        "import seaborn as sns\n",
        "from google.colab import drive\n",
        "drive.mount('/content/drive',  force_remount=True)\n",
        "nltk.download('punkt')\n",
        "nltk.download('averaged_perceptron_tagger')\n",
        "from bs4 import BeautifulSoup\n",
        "import requests\n",
        "from tensorflow.keras.preprocessing.text import Tokenizer\n",
        "from tensorflow.keras.preprocessing.sequence import pad_sequences   \n",
        "from nltk.corpus import stopwords\n",
        "nltk.download('stopwords')\n",
        "from sklearn.model_selection import train_test_split\n",
        "from sklearn.metrics import (make_scorer, recall_score, f1_score, accuracy_score, precision_score, confusion_matrix)\n",
        "!pip install bs4\n",
        "!pip install requests"
      ],
      "execution_count": 1,
      "outputs": [
        {
          "output_type": "stream",
          "text": [
            "Mounted at /content/drive\n",
            "[nltk_data] Downloading package punkt to /root/nltk_data...\n",
            "[nltk_data]   Package punkt is already up-to-date!\n",
            "[nltk_data] Downloading package averaged_perceptron_tagger to\n",
            "[nltk_data]     /root/nltk_data...\n",
            "[nltk_data]   Package averaged_perceptron_tagger is already up-to-\n",
            "[nltk_data]       date!\n",
            "[nltk_data] Downloading package stopwords to /root/nltk_data...\n",
            "[nltk_data]   Package stopwords is already up-to-date!\n",
            "Requirement already satisfied: bs4 in /usr/local/lib/python3.6/dist-packages (0.0.1)\n",
            "Requirement already satisfied: beautifulsoup4 in /usr/local/lib/python3.6/dist-packages (from bs4) (4.6.3)\n",
            "Requirement already satisfied: requests in /usr/local/lib/python3.6/dist-packages (2.23.0)\n",
            "Requirement already satisfied: urllib3!=1.25.0,!=1.25.1,<1.26,>=1.21.1 in /usr/local/lib/python3.6/dist-packages (from requests) (1.24.3)\n",
            "Requirement already satisfied: certifi>=2017.4.17 in /usr/local/lib/python3.6/dist-packages (from requests) (2020.6.20)\n",
            "Requirement already satisfied: chardet<4,>=3.0.2 in /usr/local/lib/python3.6/dist-packages (from requests) (3.0.4)\n",
            "Requirement already satisfied: idna<3,>=2.5 in /usr/local/lib/python3.6/dist-packages (from requests) (2.10)\n"
          ],
          "name": "stdout"
        }
      ]
    },
    {
      "cell_type": "code",
      "metadata": {
        "id": "slTwdHIy_x9Y"
      },
      "source": [
        "train = pd.read_csv('/content/drive/My Drive/python-data-engineer-crawler-tomasz-poniatowski/train.csv')\n",
        "test = pd.read_csv('/content/drive/My Drive/python-data-engineer-crawler-tomasz-poniatowski/test.csv')\n",
        "keywords = pd.read_csv('/content/drive/My Drive/python-data-engineer-crawler-tomasz-poniatowski/keyword2tumor_type.csv')"
      ],
      "execution_count": 2,
      "outputs": []
    },
    {
      "cell_type": "code",
      "metadata": {
        "id": "5lQonvY9_tdl",
        "outputId": "2fdce418-96ac-4e22-b725-d055d0f3dbdd",
        "colab": {
          "base_uri": "https://localhost:8080/",
          "height": 202
        }
      },
      "source": [
        "train.head()"
      ],
      "execution_count": 3,
      "outputs": [
        {
          "output_type": "execute_result",
          "data": {
            "text/html": [
              "<div>\n",
              "<style scoped>\n",
              "    .dataframe tbody tr th:only-of-type {\n",
              "        vertical-align: middle;\n",
              "    }\n",
              "\n",
              "    .dataframe tbody tr th {\n",
              "        vertical-align: top;\n",
              "    }\n",
              "\n",
              "    .dataframe thead th {\n",
              "        text-align: right;\n",
              "    }\n",
              "</style>\n",
              "<table border=\"1\" class=\"dataframe\">\n",
              "  <thead>\n",
              "    <tr style=\"text-align: right;\">\n",
              "      <th></th>\n",
              "      <th>url</th>\n",
              "      <th>doc_id</th>\n",
              "      <th>label</th>\n",
              "    </tr>\n",
              "  </thead>\n",
              "  <tbody>\n",
              "    <tr>\n",
              "      <th>0</th>\n",
              "      <td>http://elbe-elster-klinikum.de/fachbereiche/ch...</td>\n",
              "      <td>1</td>\n",
              "      <td>1</td>\n",
              "    </tr>\n",
              "    <tr>\n",
              "      <th>1</th>\n",
              "      <td>http://klinikum-bayreuth.de/einrichtungen/zent...</td>\n",
              "      <td>3</td>\n",
              "      <td>3</td>\n",
              "    </tr>\n",
              "    <tr>\n",
              "      <th>2</th>\n",
              "      <td>http://klinikum-braunschweig.de/info.php/?id_o...</td>\n",
              "      <td>4</td>\n",
              "      <td>1</td>\n",
              "    </tr>\n",
              "    <tr>\n",
              "      <th>3</th>\n",
              "      <td>http://klinikum-braunschweig.de/info.php/?id_o...</td>\n",
              "      <td>5</td>\n",
              "      <td>1</td>\n",
              "    </tr>\n",
              "    <tr>\n",
              "      <th>4</th>\n",
              "      <td>http://klinikum-braunschweig.de/zuweiser/tumor...</td>\n",
              "      <td>6</td>\n",
              "      <td>3</td>\n",
              "    </tr>\n",
              "  </tbody>\n",
              "</table>\n",
              "</div>"
            ],
            "text/plain": [
              "                                                 url  doc_id  label\n",
              "0  http://elbe-elster-klinikum.de/fachbereiche/ch...       1      1\n",
              "1  http://klinikum-bayreuth.de/einrichtungen/zent...       3      3\n",
              "2  http://klinikum-braunschweig.de/info.php/?id_o...       4      1\n",
              "3  http://klinikum-braunschweig.de/info.php/?id_o...       5      1\n",
              "4  http://klinikum-braunschweig.de/zuweiser/tumor...       6      3"
            ]
          },
          "metadata": {
            "tags": []
          },
          "execution_count": 3
        }
      ]
    },
    {
      "cell_type": "code",
      "metadata": {
        "id": "7yLIz_TtBDe9",
        "outputId": "6352cd1a-5157-4849-905d-4e1066426f83",
        "colab": {
          "base_uri": "https://localhost:8080/",
          "height": 202
        }
      },
      "source": [
        "test.head()"
      ],
      "execution_count": 4,
      "outputs": [
        {
          "output_type": "execute_result",
          "data": {
            "text/html": [
              "<div>\n",
              "<style scoped>\n",
              "    .dataframe tbody tr th:only-of-type {\n",
              "        vertical-align: middle;\n",
              "    }\n",
              "\n",
              "    .dataframe tbody tr th {\n",
              "        vertical-align: top;\n",
              "    }\n",
              "\n",
              "    .dataframe thead th {\n",
              "        text-align: right;\n",
              "    }\n",
              "</style>\n",
              "<table border=\"1\" class=\"dataframe\">\n",
              "  <thead>\n",
              "    <tr style=\"text-align: right;\">\n",
              "      <th></th>\n",
              "      <th>url</th>\n",
              "      <th>doc_id</th>\n",
              "    </tr>\n",
              "  </thead>\n",
              "  <tbody>\n",
              "    <tr>\n",
              "      <th>0</th>\n",
              "      <td>http://chirurgie-goettingen.de/medizinische-ve...</td>\n",
              "      <td>0</td>\n",
              "    </tr>\n",
              "    <tr>\n",
              "      <th>1</th>\n",
              "      <td>http://evkb.de/kliniken-zentren/chirurgie/allg...</td>\n",
              "      <td>2</td>\n",
              "    </tr>\n",
              "    <tr>\n",
              "      <th>2</th>\n",
              "      <td>http://krebszentrum.kreiskliniken-reutlingen.d...</td>\n",
              "      <td>7</td>\n",
              "    </tr>\n",
              "    <tr>\n",
              "      <th>3</th>\n",
              "      <td>http://marienhospital-buer.de/mhb-av-chirurgie...</td>\n",
              "      <td>15</td>\n",
              "    </tr>\n",
              "    <tr>\n",
              "      <th>4</th>\n",
              "      <td>http://marienhospital-buer.de/mhb-av-chirurgie...</td>\n",
              "      <td>16</td>\n",
              "    </tr>\n",
              "  </tbody>\n",
              "</table>\n",
              "</div>"
            ],
            "text/plain": [
              "                                                 url  doc_id\n",
              "0  http://chirurgie-goettingen.de/medizinische-ve...       0\n",
              "1  http://evkb.de/kliniken-zentren/chirurgie/allg...       2\n",
              "2  http://krebszentrum.kreiskliniken-reutlingen.d...       7\n",
              "3  http://marienhospital-buer.de/mhb-av-chirurgie...      15\n",
              "4  http://marienhospital-buer.de/mhb-av-chirurgie...      16"
            ]
          },
          "metadata": {
            "tags": []
          },
          "execution_count": 4
        }
      ]
    },
    {
      "cell_type": "code",
      "metadata": {
        "id": "dE_Rov_-CRci",
        "outputId": "33a6bf40-e560-454d-f163-83d89da84e7d",
        "colab": {
          "base_uri": "https://localhost:8080/",
          "height": 202
        }
      },
      "source": [
        "keywords.head()"
      ],
      "execution_count": 5,
      "outputs": [
        {
          "output_type": "execute_result",
          "data": {
            "text/html": [
              "<div>\n",
              "<style scoped>\n",
              "    .dataframe tbody tr th:only-of-type {\n",
              "        vertical-align: middle;\n",
              "    }\n",
              "\n",
              "    .dataframe tbody tr th {\n",
              "        vertical-align: top;\n",
              "    }\n",
              "\n",
              "    .dataframe thead th {\n",
              "        text-align: right;\n",
              "    }\n",
              "</style>\n",
              "<table border=\"1\" class=\"dataframe\">\n",
              "  <thead>\n",
              "    <tr style=\"text-align: right;\">\n",
              "      <th></th>\n",
              "      <th>keyword</th>\n",
              "      <th>tumor_type</th>\n",
              "    </tr>\n",
              "  </thead>\n",
              "  <tbody>\n",
              "    <tr>\n",
              "      <th>0</th>\n",
              "      <td>senologische</td>\n",
              "      <td>Brust</td>\n",
              "    </tr>\n",
              "    <tr>\n",
              "      <th>1</th>\n",
              "      <td>brustzentrum</td>\n",
              "      <td>Brust</td>\n",
              "    </tr>\n",
              "    <tr>\n",
              "      <th>2</th>\n",
              "      <td>breast</td>\n",
              "      <td>Brust</td>\n",
              "    </tr>\n",
              "    <tr>\n",
              "      <th>3</th>\n",
              "      <td>thorax</td>\n",
              "      <td>Brust</td>\n",
              "    </tr>\n",
              "    <tr>\n",
              "      <th>4</th>\n",
              "      <td>thorakale</td>\n",
              "      <td>Brust</td>\n",
              "    </tr>\n",
              "  </tbody>\n",
              "</table>\n",
              "</div>"
            ],
            "text/plain": [
              "        keyword tumor_type\n",
              "0  senologische      Brust\n",
              "1  brustzentrum      Brust\n",
              "2        breast      Brust\n",
              "3        thorax      Brust\n",
              "4     thorakale      Brust"
            ]
          },
          "metadata": {
            "tags": []
          },
          "execution_count": 5
        }
      ]
    },
    {
      "cell_type": "code",
      "metadata": {
        "id": "yHd0rr14Bbu2",
        "outputId": "99d14512-1e57-4f30-b805-b7d0696e4598",
        "colab": {
          "base_uri": "https://localhost:8080/",
          "height": 460
        }
      },
      "source": [
        "plt.figure(figsize=(10,6))\n",
        "sns.countplot(train['label'])"
      ],
      "execution_count": 6,
      "outputs": [
        {
          "output_type": "stream",
          "text": [
            "/usr/local/lib/python3.6/dist-packages/seaborn/_decorators.py:43: FutureWarning: Pass the following variable as a keyword arg: x. From version 0.12, the only valid positional argument will be `data`, and passing other arguments without an explicit keyword will result in an error or misinterpretation.\n",
            "  FutureWarning\n"
          ],
          "name": "stderr"
        },
        {
          "output_type": "execute_result",
          "data": {
            "text/plain": [
              "<matplotlib.axes._subplots.AxesSubplot at 0x7fb760d71f28>"
            ]
          },
          "metadata": {
            "tags": []
          },
          "execution_count": 6
        },
        {
          "output_type": "display_data",
          "data": {
            "image/png": "[encoded data removed]",
            "text/plain": [
              "<Figure size 720x432 with 1 Axes>"
            ]
          },
          "metadata": {
            "tags": [],
            "needs_background": "light"
          }
        }
      ]
    },
    {
      "cell_type": "code",
      "metadata": {
        "id": "w5qRajeKFh42"
      },
      "source": [
        "#for  e in train['url']:\n",
        " # page = requests.get(e)"
      ],
      "execution_count": 7,
      "outputs": []
    },
    {
      "cell_type": "code",
      "metadata": {
        "id": "MUqQ4xh_GuE-"
      },
      "source": [
        "df = pd.DataFrame(columns=['text'])\n",
        "for i, e in enumerate(train['url']):\n",
        "    try:\n",
        "      response = requests.get(e, verify=False).text\n",
        "    except:\n",
        "      pass\n",
        "    soup1 = BeautifulSoup(response, 'html.parser')\n",
        "    soup2 = soup1.getText()\n",
        "    df.loc[i] = soup2"
      ],
      "execution_count": null,
      "outputs": []
    },
    {
      "cell_type": "code",
      "metadata": {
        "id": "XmKw_-oDIIG_",
        "outputId": "7b85317f-e5a5-4405-cf18-daae6b570f6c",
        "colab": {
          "base_uri": "https://localhost:8080/",
          "height": 225
        }
      },
      "source": [
        "df['text']"
      ],
      "execution_count": 9,
      "outputs": [
        {
          "output_type": "execute_result",
          "data": {
            "text/plain": [
              "0     \\n\\n\\n\\n\\n\\n\\n\\nElbe-Elster Klinikum - Chirurg...\n",
              "1     \\n\\n\\n\\n\\n\\nOnkologisches Zentrum | Klinikum B...\n",
              "2     \\n\\n\\nZentrum - Sozialpädiatrisches Zentrum - ...\n",
              "3     \\n\\n\\nLeistung - Spezielle Unterstützung bei d...\n",
              "4     \\n\\n\\nZuweiser - Tumorkonferenzen - Tumorkonfe...\n",
              "                            ...                        \n",
              "95    \\n\\n\\n\\n\\n\\n\\n\\n\\n\\n\\n\\nuniFM | uniCROSS\\n\\n\\n...\n",
              "96    \\n\\n\\n\\n\\n\\n\\n\\n\\n\\n\\n\\n\\n\\n\\n\\n\\n\\n\\n\\n\\nInte...\n",
              "97    \\n\\n\\n\\n\\n\\n\\n\\n\\n\\n\\n\\n\\nFür Ärzte | Vivantes...\n",
              "98    \\n\\n\\n\\n\\n\\n\\n\\n\\n\\n\\n\\n\\n\\n\\nInnere Medizin –...\n",
              "99    \\n\\n\\n\\n\\n\\n\\n\\n\\n\\n\\n\\n\\n\\n\\n\\n\\n\\n\\n\\n\\n\\n\\n...\n",
              "Name: text, Length: 100, dtype: object"
            ]
          },
          "metadata": {
            "tags": []
          },
          "execution_count": 9
        }
      ]
    },
    {
      "cell_type": "code",
      "metadata": {
        "id": "XZRnqtOLtt7Z"
      },
      "source": [
        "def cleaning(text):\n",
        "    pat1 = r'@[A-Za-z0-9]+'\n",
        "    pat2 = r'https?://[A-Za-z0-9./]+'\n",
        "    combined_pat = r'|'.join((pat1,pat2))\n",
        "    text = re.sub(combined_pat,'',str(text))\n",
        "    text = re.sub(\"[^a-zA-Z]\", \" \", str(text))\n",
        "    final_remove_space = re.sub(' +',' ',str(text))\n",
        "    return final_remove_space"
      ],
      "execution_count": 10,
      "outputs": []
    },
    {
      "cell_type": "code",
      "metadata": {
        "id": "5yfzSaL2ttky"
      },
      "source": [
        "df2 = pd.DataFrame(columns=['text'])\n",
        "for i,e in enumerate(df['text']):\n",
        "  df2.loc[i] = cleaning(e)"
      ],
      "execution_count": 11,
      "outputs": []
    },
    {
      "cell_type": "code",
      "metadata": {
        "id": "bM4H7KN7Dp1n"
      },
      "source": [
        "manuals = set(['www', 'projekt', 'party', 'kontakt', 'length ', 'else', 'offset', 'n', 'x', 'decryptCharcode ', 'document ', 'return ', 'translations ',\n",
        "'window ', 'var ', 'userAgent', 'coalesce', 'multiple', 'content', 'accordions', 'into', 'one', 'function', 'getElementById', 'querySelector',\n",
        " 'if', 'cookie ', 'previousElementSibling','el', 'proxy ', 'request', 'cookieconsent', 'dismiss', 'removeCookieLayer', 'JavaScript',\n",
        " 'insertBefore', 'window ','script', 'dataLayer', 'push', 'arguments', 'function', 'config', 'documentElement', 'classname', 'replace', 'js',\n",
        " 'Google', 'Analytics', 'true', 'function', 'path', 'ip', 'Youtube', 'Facebook'])\n",
        "\n",
        "manuals = [e.lower() for e in manuals]"
      ],
      "execution_count": 12,
      "outputs": []
    },
    {
      "cell_type": "code",
      "metadata": {
        "id": "FgPP4L_yzlWj"
      },
      "source": [
        "tok = []\n",
        "for e in df2['text']:\n",
        "  tok.append(nltk.tokenize.word_tokenize(e))\n",
        "df2['tokens'] = tok"
      ],
      "execution_count": 13,
      "outputs": []
    },
    {
      "cell_type": "code",
      "metadata": {
        "id": "ISL3q-Hm2134"
      },
      "source": [
        "stop_words = set(stopwords.words('german')) \n",
        "stop_words_eng = set(stopwords.words('english')) "
      ],
      "execution_count": 14,
      "outputs": []
    },
    {
      "cell_type": "code",
      "metadata": {
        "id": "7aEfivoHD0IO"
      },
      "source": [
        "filtered_list = []\n",
        "for e in range(len(df2)):\n",
        "  filtered_sentence = [w for w in df2['tokens'].loc[e] if not w in stop_words or stop_words_eng]\n",
        "  filtered_sentence = [w for w in df2['tokens'].loc[e] if not w.lower() in manuals]\n",
        "  print(filtered_sentence)\n",
        "  filtered_list.append(filtered_sentence)\n",
        "df2['filtered'] = filtered_list"
      ],
      "execution_count": null,
      "outputs": []
    },
    {
      "cell_type": "code",
      "metadata": {
        "id": "dPYfpq5bHDzv"
      },
      "source": [
        "for e in range(len(df2)):\n",
        "  df2['filtered'].loc[e] = np.char.replace(np.char.lower(df2['filtered'][e]), \"'\", \"\")"
      ],
      "execution_count": 16,
      "outputs": []
    },
    {
      "cell_type": "code",
      "metadata": {
        "id": "6gYCgztiLnsz",
        "outputId": "53c30020-7bc0-4790-b649-edc83fb914e3",
        "colab": {
          "base_uri": "https://localhost:8080/",
          "height": 225
        }
      },
      "source": [
        "df2['filtered']"
      ],
      "execution_count": 17,
      "outputs": [
        {
          "output_type": "execute_result",
          "data": {
            "text/plain": [
              "0     [elbe, elster, klinikum, chirurgie, finsterwal...\n",
              "1     [onkologisches, zentrum, klinikum, bayreuth, z...\n",
              "2     [zentrum, sozialp, diatrisches, zentrum, st, d...\n",
              "3     [leistung, spezielle, unterst, tzung, bei, der...\n",
              "4     [zuweiser, tumorkonferenzen, tumorkonferenz, g...\n",
              "                            ...                        \n",
              "95    [unifm, unicross, organization, freiburg, de, ...\n",
              "96    [interdisziplin, re, neurovaskul, re, konferen...\n",
              "97    [f, r, rzte, vivantes, w, d, s, l, i, w, l, w,...\n",
              "98    [innere, medizin, h, matologie, onkologie, und...\n",
              "99    [startseite, klinikum, hochsauerland, klinikum...\n",
              "Name: filtered, Length: 100, dtype: object"
            ]
          },
          "metadata": {
            "tags": []
          },
          "execution_count": 17
        }
      ]
    },
    {
      "cell_type": "code",
      "metadata": {
        "id": "IdrBK5ZOJsAI"
      },
      "source": [
        "from nltk.stem import PorterStemmer\n",
        "stemmer = PorterStemmer()"
      ],
      "execution_count": 18,
      "outputs": []
    },
    {
      "cell_type": "code",
      "metadata": {
        "id": "nxlqSqoXKRC6"
      },
      "source": [
        "stem_list = []\n",
        "\n",
        "for e in range(100):\n",
        "  stem = []\n",
        "  for i in df2['filtered'].loc[e]:\n",
        "    stem.append(stemmer.stem(i))\n",
        "  stem_list.append(stem)\n",
        "\n",
        "df2['stem'] = stem_list"
      ],
      "execution_count": 19,
      "outputs": []
    },
    {
      "cell_type": "code",
      "metadata": {
        "id": "E7tFZeMeVX_A"
      },
      "source": [
        "df2['y'] = train['label']"
      ],
      "execution_count": 20,
      "outputs": []
    },
    {
      "cell_type": "code",
      "metadata": {
        "id": "2ovoiCEjVg9W",
        "outputId": "df197ac7-f0a0-48b6-fa43-39d2a176f7a0",
        "colab": {
          "base_uri": "https://localhost:8080/",
          "height": 289
        }
      },
      "source": [
        "df2.head()"
      ],
      "execution_count": 21,
      "outputs": [
        {
          "output_type": "execute_result",
          "data": {
            "text/html": [
              "<div>\n",
              "<style scoped>\n",
              "    .dataframe tbody tr th:only-of-type {\n",
              "        vertical-align: middle;\n",
              "    }\n",
              "\n",
              "    .dataframe tbody tr th {\n",
              "        vertical-align: top;\n",
              "    }\n",
              "\n",
              "    .dataframe thead th {\n",
              "        text-align: right;\n",
              "    }\n",
              "</style>\n",
              "<table border=\"1\" class=\"dataframe\">\n",
              "  <thead>\n",
              "    <tr style=\"text-align: right;\">\n",
              "      <th></th>\n",
              "      <th>text</th>\n",
              "      <th>tokens</th>\n",
              "      <th>filtered</th>\n",
              "      <th>stem</th>\n",
              "      <th>y</th>\n",
              "    </tr>\n",
              "  </thead>\n",
              "  <tbody>\n",
              "    <tr>\n",
              "      <th>0</th>\n",
              "      <td>Elbe Elster Klinikum Chirurgie Finsterwalde d...</td>\n",
              "      <td>[Elbe, Elster, Klinikum, Chirurgie, Finsterwal...</td>\n",
              "      <td>[elbe, elster, klinikum, chirurgie, finsterwal...</td>\n",
              "      <td>[elb, elster, klinikum, chirurgi, finsterwald,...</td>\n",
              "      <td>1</td>\n",
              "    </tr>\n",
              "    <tr>\n",
              "      <th>1</th>\n",
              "      <td>Onkologisches Zentrum Klinikum Bayreuth Zum I...</td>\n",
              "      <td>[Onkologisches, Zentrum, Klinikum, Bayreuth, Z...</td>\n",
              "      <td>[onkologisches, zentrum, klinikum, bayreuth, z...</td>\n",
              "      <td>[onkologisch, zentrum, klinikum, bayreuth, zum...</td>\n",
              "      <td>3</td>\n",
              "    </tr>\n",
              "    <tr>\n",
              "      <th>2</th>\n",
              "      <td>Zentrum Sozialp diatrisches Zentrum St dtisch...</td>\n",
              "      <td>[Zentrum, Sozialp, diatrisches, Zentrum, St, d...</td>\n",
              "      <td>[zentrum, sozialp, diatrisches, zentrum, st, d...</td>\n",
              "      <td>[zentrum, sozialp, diatrisch, zentrum, st, dti...</td>\n",
              "      <td>1</td>\n",
              "    </tr>\n",
              "    <tr>\n",
              "      <th>3</th>\n",
              "      <td>Leistung Spezielle Unterst tzung bei der Anme...</td>\n",
              "      <td>[Leistung, Spezielle, Unterst, tzung, bei, der...</td>\n",
              "      <td>[leistung, spezielle, unterst, tzung, bei, der...</td>\n",
              "      <td>[leistung, speziel, unterst, tzung, bei, der, ...</td>\n",
              "      <td>1</td>\n",
              "    </tr>\n",
              "    <tr>\n",
              "      <th>4</th>\n",
              "      <td>Zuweiser Tumorkonferenzen Tumorkonferenz Gast...</td>\n",
              "      <td>[Zuweiser, Tumorkonferenzen, Tumorkonferenz, G...</td>\n",
              "      <td>[zuweiser, tumorkonferenzen, tumorkonferenz, g...</td>\n",
              "      <td>[zuweis, tumorkonferenzen, tumorkonferenz, gas...</td>\n",
              "      <td>3</td>\n",
              "    </tr>\n",
              "  </tbody>\n",
              "</table>\n",
              "</div>"
            ],
            "text/plain": [
              "                                                text  ...  y\n",
              "0   Elbe Elster Klinikum Chirurgie Finsterwalde d...  ...  1\n",
              "1   Onkologisches Zentrum Klinikum Bayreuth Zum I...  ...  3\n",
              "2   Zentrum Sozialp diatrisches Zentrum St dtisch...  ...  1\n",
              "3   Leistung Spezielle Unterst tzung bei der Anme...  ...  1\n",
              "4   Zuweiser Tumorkonferenzen Tumorkonferenz Gast...  ...  3\n",
              "\n",
              "[5 rows x 5 columns]"
            ]
          },
          "metadata": {
            "tags": []
          },
          "execution_count": 21
        }
      ]
    },
    {
      "cell_type": "code",
      "metadata": {
        "id": "ugkUhZeeaS-F"
      },
      "source": [
        "labels = df2['y'].tolist()"
      ],
      "execution_count": 22,
      "outputs": []
    },
    {
      "cell_type": "code",
      "metadata": {
        "id": "XBuN84T9cXRg"
      },
      "source": [
        "sentences = []\n",
        "for i in range(100):\n",
        "  one_obs = ' '.join([e for e in df2['stem'].loc[i]])\n",
        "  sentences.append(one_obs)\n",
        "labels = df2['y'].tolist()"
      ],
      "execution_count": 23,
      "outputs": []
    },
    {
      "cell_type": "code",
      "metadata": {
        "id": "NaOWC0I0N3y9",
        "outputId": "0331f2f5-7fe3-47d6-f685-ef2caec580bd",
        "colab": {
          "base_uri": "https://localhost:8080/",
          "height": 35
        }
      },
      "source": [
        "len(df2['stem'].loc[0])"
      ],
      "execution_count": 24,
      "outputs": [
        {
          "output_type": "execute_result",
          "data": {
            "text/plain": [
              "1541"
            ]
          },
          "metadata": {
            "tags": []
          },
          "execution_count": 24
        }
      ]
    },
    {
      "cell_type": "code",
      "metadata": {
        "id": "Lut0z6a5N9Oa"
      },
      "source": [
        "df2['stem'].loc[0]"
      ],
      "execution_count": null,
      "outputs": []
    },
    {
      "cell_type": "code",
      "metadata": {
        "id": "MH0ZjkewOCUe",
        "outputId": "876f5bbe-0c10-4cbd-e9f6-6f30035159a6",
        "colab": {
          "base_uri": "https://localhost:8080/",
          "height": 139
        }
      },
      "source": [
        "sentences[0]"
      ],
      "execution_count": 26,
      "outputs": [
        {
          "output_type": "execute_result",
          "data": {
            "application/vnd.google.colaboratory.intrinsic+json": {
              "type": "string"
            },
            "text/plain": [
              "'elb elster klinikum chirurgi finsterwald div jsn modulecontain ul menu mainmenu ul li div jsn modulecontain ul menu mainmenu ul width px div jsn modulecontain ul menu mainmenu ul ul margin left px margin left px div jsn modulecontain ul menu mainmenu li jsn submenu flipback ul ul right px right px jsn po toolbar div jsn modulecontain ul menu mainmenu ul ul margin right px margin right px margin left auto div jsn modulecontain ul menu sidemenu ul div jsn modulecontain ul menu sidemenu ul li width px div jsn modulecontain ul menu sidemenu li ul right px bodi jsn direct rtl div jsn modulecontain ul menu sidemenu li ul left px right auto div jsn modulecontain ul menu sidemenu ul ul margin left px csrf token e c d ee ee bbe edb system path root base jqueri dropdown toggl dropdown jqueri window on load new jcaption img caption jsntemplat inittempl templateprefix jsn reta pro templatepath templat jsn reta pro enablertl enablegotoplink enablemobil enablemobilemenusticki enabledesktopmenusticki responsivelayout mobil wide mobilemenueffect left jqueri squeezebox initi initsqueezebox document on subform row add initsqueezebox initsqueezebox event contain squeezebox assign contain document find a modal get pars rel window jmodalclos squeezebox close add extra modal close function for tinymc base editor document onreadystatechang document readyst interact typeof tinymc undefin tinymc typeof window jmodalclos no tinymc undefin window jmodalclos no tinymc typeof jmodalclos jmodalclos fals jmodalclos window jmodalclos no tinymc window jmodalclos no tinymc appli thi tinymc activeeditor windowmanag close typeof window squeezeboxclos no tinymc undefin typeof squeezebox undefin squeezebox window squeezeboxclos no tinymc typeof squeezebox close squeezebox close fals squeezebox close window squeezeboxclos no tinymc window squeezeboxclos no tinymc appli thi tinymc activeeditor windowmanag close window option learnmor zur datenschutzerkl u e rung einverstanden messag dies webseit nutzt cooki f u fcr funktion und komfortzweck r nweiter informationen finden sie in unser datenschutzerkl u e rung r nklicken sie auf die nachfolgend schaltfl u e che um die genannten bedingungen zu akzeptieren link http ee klinikum de index php datenschutz theme plugin system jsntplframework asset rd style light top css jqueri inittooltip bodi on subform row add inittooltip inittooltip event contain contain contain document contain find hastooltip tooltip html contain bodi suchen elb elster klinikum leitbild klinikleitung qualit tsmanag qualit tsbericht krankenhaushygien beauftragt de klinikum karrier ausbildung stellenangebot ausbildung und praktikum facharztausbildung klinikum im cartoon akademisch lehrkrankenhau mhb elb elster mvz gmbh standort elsterwerda finsterwald herzberg fachbereich an sthesi und intensivmedizin an sthesi und intensivmedizin elsterwerda an sthesi und intensivmedizin finsterwald an sthesi und intensivmedizin herzberg chirurgi chirurgi elsterwerda chirurgi finsterwald chirurgi herzberg gyn kologi und geburtshilf gyn kologi elsterwerda gyn kologi finsterwald gyn kologi geburtshilf herzberg gyn kologi urogyn kologi geburtshilf inner medizin inner medizin elsterwerda inner medizin finsterwald inner medizin herzberg endoskopiezentrum s dbrandenburg p diatri p diatri herzberg kinderschutzgrupp psychiatri psychiatri finsterwald psychiatri elsterwerda radiologi radiologi elsterwerda radiologi finsterwald radiologi herzberg pflege pflege elsterwerda pflege finsterwald pflege herzberg funktionsdiagnostik funktionsdiagnostik elsterwerda funktionsdiagnostik finsterwald funktionsdiagnostik herzberg physiotherapi physiotherapi elsterwerda physiotherapi finsterwald physiotherapi herzberg patienteninform notaufnahm ambulant aufnahm station re aufnahm servic im krankenhau patientenbeauftragt patientenf rsprecherin entlassungsmanag aktuel pressemitteilungen pressemitteilungen archiv newslett publikationen flyer veranstaltungen babygaleri fachbereich elb elster klinikumfachbereichechirurgiechirurgi finsterwald chirurgi finsterwald mudr ivor dropco chefarzt der abteilung f r chirurgi facharzt f r chirurgi und viszeralchirurgiezusatzbezeichnung speziel viszeralchirurgi sekretariatt f dies e mail adress ist vor spambot gesch tzt zur anzeig muss eingeschaltet sein document cloak af b b d f fdbdae e innerhtml var prefix ma il to var hr ef var addi af b b d f fdbdae e chirurgi fi addi af b b d f fdbdae e addi af b b d f fdbdae e elb elster klinikum de document cloak af b b d f fdbdae e innerhtml addi af b b d f fdbdae e fc hau eben fc a hau eben betten besuchszeiten kernbesuchszeit uhr au erhalb nach absprach zertifik weiter standort chirurgi elsterwerda chirurgi finsterwald chirurgi herzberg document readi accordion xiha f panel collaps click e var collaps item accordion xiha f thi hash accordion xiha f panel bodi each thi addclass panel collaps collaps item removeclass panel collaps collaps item attr style joomlashin jqueri ambulant angebot und sprechstunden notfallambulanzrund um die uhr t einweisung und beratungssprechstundebauch und herniendienstag mittwoch freitag uhrt wundsprechstundedienstag mittwoch freitag uhrt servic sprechstund f r unfallchirurgieschultersprechstundemontag und donnerstag uhrt proktologisch sprechstundedienstag uhrt anmeldungssprechstund f r ambulant operierenmontag bi donnerstag freitag uhrt chefarzt sprechstund adiposita sprechstund nach vereinbarung t chirurgisch op aufkl rungmontag bi freitag uhrt narkoseaufkl rungmontag bi freitag uhrt schmerzsprechstundemontag mittwoch freitag uhr dienstag und donnerstag uhrt angiologi und wundsprechstund im mvzmontag und uhrdienstag uhrmittwoch uhrdonnerstag uhrfreitag uhrt leistungsspektrum die abteilung f hrt all eingriff auf dem gebiet der allgemeinchirurgi visceralchirurgi sowi unfallchirurgi orthop die durch soweit die zum aufgabenbereich ein haus der grundversorgung geh rt sie arbeitet in zwei stationen wobei ein f r kurzlieg und ambul operativ behandelt patienten genutzt wird f r schwere f lle stehen sech betten auf der interdisziplin r genutzten intensivst zur verf gung im rahmen der allgemein und visceralchirurgi werden wenn m glich laparoskopisch operationsverfahren eingesetzt gleich gilt in der unfallchirurgi orthop die f r arthroskopisch operationen unfallchirurgisch orthop disch werden all verfahren der knochbruchbehandlung sei es durch gel schrauben oder platten angewandt der gelenkprothetisch ersatz gro er und auch kleiner gelenk wird betrieben die schilddr senchirurgi ist in umfangreichen rahmen etabliert gleich gilt f r die behandlung von krampfaderleiden im bereich der chirurgi werden gyn kologogisch patientinnen mit betreut die im rahmen ein konsiliarvertrag durch niedergelassen gyn kologen behandelt werden patienten mit erkrankungen der weiblichen brust werden von der abteilung im rahmen de lausitz brustzentrum ebenfal versorgt da leistungsspektrum ist sehr umfangreich neben der diagnostik und therapi von brustkrebserkrankungen geh ren auch die abkl rung unklar teilweis gutartig befund sowi plastisch operationen dazu mit der zertifizierung durch die deutsch herniengesellschaft dhg werden all hernienoperationen im krankenhau finsterwald einer qualit tskontrol unterzogen lausitz brustzentrum die elb elster klinikum gmbh ist mitgli im lausitz brustzentrum dieser zusammenschluss au dem lausitz seenland klinikum hoyerswerda dem malteserkrankenhau st johann kamenz der kreiskrankenhau wei wasser ggmbh sowi dem elb elster klinikum hat da ziel den an den krankenhausstandorten der partner behandelten brustkreb patientinnen ein hochwertig und qualit tsgesichert therapi nach einem einheitlichen evidenzbasierten behandlungsmust zur verf gung zu stellen patienten mit erkrankungen der weiblichen brust werden im elb elster klinikum im krankenhau finsterwald betreut dies versorgungsangebot ist in form ein senologischen arbeitskreis organisiert und in der fachabteilung f r chirurgi im krankenhau finsterwald angesiedelt da leistungsspektrum ist sehr umfangreich neben der diagnostik und therapi von brustkrebserkrankungen geh ren auch die abkl rung unklar teilweis gutartig befund sowi plastisch operationen dazu der arbeitskrei handelt entsprechend der medizinischen s leitlinien der deutschen krebsgesellschaft und der arbeitsgemeinschaft der gyn kologischen onkologi sein arbeitsweis ist den tumorboard zertifiziert brustzentren gleichzusetzen er versammelt gyn kologen chirurgen onkologen pathologen radiologen nuklearmedizin strahlentherapeuten psychologen und spezialisiert pflegekr fte sowohl au dem station ren al auch au ambulanten bereichen die die therapieoptionen der behandelten patientinnen gemeinsam festlegen da gemeinsam erarbeitet protokol enth lt ein therapieempfehlung und wird den behandelnden medizinern im anschluss zugesandt ziel aller bem hungen ist es immer den patientinnen mit brusterkrankungen ein diagnos und die behandlung auf dem aktuellen stand der medizin anzubieten ebenso wichtig ist die menschlich seit der betreuung neben den fachlichen kenntnissen sind einf hlsamkeit und ganzheitlich betrachtung entscheidend grundpfeil der arbeit de senologischen team um da krankenhau finsterwald leistungsangebot f r brustkreb patienten diagnostik mammografi hochaufl sender ultraschal computertomografi magnetresonanztomografi stanzbiopsi unter lokalan sthesi w chterlymphknotenbiopsi in der achselh hle pathologi therapi mammachirurgi ablativ sowi gesamt spektrum der brusterhaltung der prim ren und sekund ren rekonstrukt nach entfernung der brust und der plastischen brustchirurgi chemo und strahlentherapi w hrend de und nach dem krankenhausaufenthalt betreuung durch spezialisiert pflegekr fte physiotherapeutisch anleitung und bung unterst tzung durch den sozialdienst de haus psychoonkologisch betreuung und begleitung ern hrungsberatung vorteil f r unser patientinnen ganzheitlich diagnostik und therapi durch ein interdisziplin re team au gyn kologen chirurgen onkologen pathologen radiologen nuklearmedizinern strahlentherapeuten psychologen und spezialisierten pflegekr ften einbeziehung der patientinnen in die therapieentscheidung und zusammenarbeit mit patientinnen initiativen und selbsthilfegruppen wohnortnah versorgung auf hohem medizinischem niveau zweitmeinung in diagnostik und therapi rztlich person chefarzt mudr ivor dropco facharzt f r chirurgi und viszeralchirurgi zusatzbezeichnung speziel viszeralchirurgi leitend oberarzt dipl med thoma vogelfacharzt f r chirurgiefachkund rettungsdienstzusatzbezeichnung notfallmedizin oberarzt ingo beyerfacharzt f r chirurgi und viszeralchirurgiezusatzbezeichnung speziel viszeralchirurgiezusatzbezeichnung proktologi oberarzt dr med volker papsteinfacharzt f r chirurgiezusatzbezeichnung proktologiezusatzbezeichnung notfallmedizin oberarzt lutz j ckelfacharzt f r chirurgi orthop die und unfallchirurgieschwerpunktbezeichnung unfallchirurgiezusatzbezeichnung notfallmedizin ein fach rztin sech assistenz rzte weiterbildungserm chtigungen monat viszeralchirurgi monat allgemeinchirugi monat basisbefugni chirurgi monat proktologi document readi accordion f vdl panel collaps click e var collaps item accordion f vdl thi hash accordion f vdl panel bodi each thi addclass panel collaps collaps item removeclass panel collaps collaps item attr style joomlashin jqueri fachbereich elb elster klinikumfachbereichechirurgiechirurgi finsterwald elb elster klinikum gmbhkirchhain stra e a finsterwaldet f info elster klinikum dewww elb elster klinikum de inform allg vertragsbedingungen inkl zusatzentgelt datenschutz impressum copyright elb elster klinikum gmbh wenn sie inhalt dieser seit verwenden verlinken oder anderweitig nutzen m chten dann fragen sie un gern stellen wir pressemateri in hoher qualit t zur verf gung'"
            ]
          },
          "metadata": {
            "tags": []
          },
          "execution_count": 26
        }
      ]
    },
    {
      "cell_type": "code",
      "metadata": {
        "id": "BH4DAnkst07X"
      },
      "source": [
        "training_sentences, testing_senteces, training_labels, testing_labels = train_test_split(sentences, labels, train_size=0.8, random_state=1)\n",
        "\n",
        "training_labels_final = np.array(training_labels)\n",
        "testing_labels_final = np.array(testing_labels)"
      ],
      "execution_count": 27,
      "outputs": []
    },
    {
      "cell_type": "code",
      "metadata": {
        "id": "P2f6JXw-oziP"
      },
      "source": [
        "vocab_size = 500\n",
        "embedding_dim = 16\n",
        "max_length = 280\n",
        "trunc_type='post'\n",
        "padding_type='post'\n",
        "oov_tok = \"<OOV>\""
      ],
      "execution_count": 28,
      "outputs": []
    },
    {
      "cell_type": "code",
      "metadata": {
        "id": "IDoHg58Qaj0e"
      },
      "source": [
        "tokenizer = Tokenizer(num_words=vocab_size, oov_token=oov_tok)\n",
        "tokenizer.fit_on_texts(training_sentences)\n",
        "word_index = tokenizer.word_index\n",
        "\n",
        "training_sequences = tokenizer.texts_to_sequences(training_sentences)\n",
        "training_padded = pad_sequences(training_sequences, maxlen=max_length, padding=padding_type, truncating=trunc_type)\n",
        "\n",
        "testing_sequences = tokenizer.texts_to_sequences(testing_senteces)\n",
        "testing_padded = pad_sequences(testing_sequences, maxlen=max_length, padding=padding_type, truncating=trunc_type)"
      ],
      "execution_count": 29,
      "outputs": []
    },
    {
      "cell_type": "code",
      "metadata": {
        "id": "jMIWbptKdrIB"
      },
      "source": [
        "from sklearn.preprocessing import StandardScaler\n",
        "sc = StandardScaler()\n",
        "training_padded = sc.fit_transform(training_padded)\n",
        "testing_padded = sc.fit_transform(testing_padded)"
      ],
      "execution_count": 30,
      "outputs": []
    },
    {
      "cell_type": "code",
      "metadata": {
        "id": "Yn7kqRn7Y1us"
      },
      "source": [
        "from sklearn.neighbors import KNeighborsClassifier\n",
        "from sklearn.model_selection import GridSearchCV\n",
        "\n",
        "#number of neighbours\n",
        "k_range = range(1,50,1)\n",
        "param_grid = dict(n_neighbors = k_range) #key = parameter name, values = values for parameters that will be tested\n",
        "\n",
        "#instantianate of KNN\n",
        "knn1= KNeighborsClassifier('distance')\n",
        "\n",
        "grid1 = GridSearchCV(knn1, param_grid, cv=5, scoring='f1_weighted', n_jobs=-1, return_train_score=True, refit=True)\n",
        "\n",
        "#gridSearch\n",
        "knn_scores1 = grid1.fit(training_padded, training_labels_final)\n",
        "\n"
      ],
      "execution_count": 31,
      "outputs": []
    },
    {
      "cell_type": "code",
      "metadata": {
        "id": "_6Gkw-T0ZHX_",
        "outputId": "2cc7c7b1-35f3-4e31-dea7-b677200db6f7",
        "colab": {
          "base_uri": "https://localhost:8080/",
          "height": 548
        }
      },
      "source": [
        "print(\"x1 mean test f1: \", knn_scores1.best_score_)\n",
        "n_neight = [e for e in knn_scores1.cv_results_['param_n_neighbors']]\n",
        "test_score = [e for e in knn_scores1.cv_results_['mean_test_score']]\n",
        "plt.figure(figsize=(14,8))\n",
        "plt.plot(n_neight, test_score, linewidth=3)\n",
        "plt.xlabel('number on neighbors')\n",
        "plt.ylabel('test f1')\n",
        "plt.title('KNN')"
      ],
      "execution_count": 32,
      "outputs": [
        {
          "output_type": "stream",
          "text": [
            "x1 mean test f1:  0.5962639382676148\n"
          ],
          "name": "stdout"
        },
        {
          "output_type": "execute_result",
          "data": {
            "text/plain": [
              "Text(0.5, 1.0, 'KNN')"
            ]
          },
          "metadata": {
            "tags": []
          },
          "execution_count": 32
        },
        {
          "output_type": "display_data",
          "data": {
            "image/png": "[encoded data removed]",
            "text/plain": [
              "<Figure size 1008x576 with 1 Axes>"
            ]
          },
          "metadata": {
            "tags": [],
            "needs_background": "light"
          }
        }
      ]
    },
    {
      "cell_type": "code",
      "metadata": {
        "id": "ZTv20MwOnU6n"
      },
      "source": [
        "scoring = {'accuracy': make_scorer(accuracy_score),\n",
        "           'precision': make_scorer(precision_score, average = 'weighted'),\n",
        "           'recall': make_scorer(recall_score, average = 'weighted'),\n",
        "           'f1_weighted': make_scorer(f1_score, average = 'weighted')\n",
        "           }"
      ],
      "execution_count": 33,
      "outputs": []
    },
    {
      "cell_type": "code",
      "metadata": {
        "id": "FRPwxeY3nV0o"
      },
      "source": [
        "from sklearn.linear_model import LogisticRegression\n",
        "from sklearn.model_selection import GridSearchCV\n",
        "\n",
        "param_grid = dict(penalty = ['l2'],C = np.logspace(-6, 6, 30),)\n",
        "    \n",
        "#instantianate of Logit\n",
        "logit = LogisticRegression()\n",
        "logit_tuning = GridSearchCV(logit, param_grid, cv=5, scoring='f1_weighted', n_jobs=-1, return_train_score=True, refit=True)\n",
        "\n",
        "#gridSearch\n",
        "logit_scores = logit_tuning.fit(training_padded, training_labels_final)"
      ],
      "execution_count": 34,
      "outputs": []
    },
    {
      "cell_type": "code",
      "metadata": {
        "id": "JE4ztViAnpiD",
        "outputId": "3528df9f-6044-4f42-8b2a-de8f11a92bbb",
        "colab": {
          "base_uri": "https://localhost:8080/",
          "height": 537
        }
      },
      "source": [
        "for e, i in zip(logit_scores.cv_results_['mean_train_score'], logit_scores.cv_results_['mean_test_score']):\n",
        "  print('train f1: {}\\ttest f1: {}'.format(e,i)) "
      ],
      "execution_count": 35,
      "outputs": [
        {
          "output_type": "stream",
          "text": [
            "train f1: 0.45002855511136486\ttest f1: 0.4504615384615384\n",
            "train f1: 0.45002855511136486\ttest f1: 0.4504615384615384\n",
            "train f1: 0.45002855511136486\ttest f1: 0.4504615384615384\n",
            "train f1: 0.45002855511136486\ttest f1: 0.4504615384615384\n",
            "train f1: 0.45002855511136486\ttest f1: 0.4504615384615384\n",
            "train f1: 0.45002855511136486\ttest f1: 0.4504615384615384\n",
            "train f1: 0.45002855511136486\ttest f1: 0.4504615384615384\n",
            "train f1: 0.5516736457042106\ttest f1: 0.49366666666666664\n",
            "train f1: 0.7165053269256308\ttest f1: 0.5423609307359307\n",
            "train f1: 0.8531190196684388\ttest f1: 0.5992757936507936\n",
            "train f1: 0.962004123280303\ttest f1: 0.588470928226363\n",
            "train f1: 0.9749976863276636\ttest f1: 0.6229094516594517\n",
            "train f1: 0.9749976863276636\ttest f1: 0.6054401154401154\n",
            "train f1: 0.9749976863276636\ttest f1: 0.5839502164502164\n",
            "train f1: 0.9749976863276636\ttest f1: 0.6\n",
            "train f1: 0.9749976863276636\ttest f1: 0.5894480519480518\n",
            "train f1: 0.9750574949401039\ttest f1: 0.591596035543404\n",
            "train f1: 0.9751150809351898\ttest f1: 0.5777973342447027\n",
            "train f1: 0.9751150809351898\ttest f1: 0.582811004784689\n",
            "train f1: 0.9749976863276636\ttest f1: 0.5349425186741362\n",
            "train f1: 0.9750552723227497\ttest f1: 0.4968836718836718\n",
            "train f1: 0.9751150809351898\ttest f1: 0.4728398235751177\n",
            "train f1: 0.9749976863276636\ttest f1: 0.5176221246074186\n",
            "train f1: 0.9751150809351898\ttest f1: 0.43146161844691255\n",
            "train f1: 0.9749976863276636\ttest f1: 0.4624407051496835\n",
            "train f1: 0.9750552723227497\ttest f1: 0.4202224409577351\n",
            "train f1: 0.9750552723227497\ttest f1: 0.4139304241510124\n",
            "train f1: 0.9750574949401039\ttest f1: 0.409636384856973\n",
            "train f1: 0.9750552723227497\ttest f1: 0.40847587869646695\n",
            "train f1: 0.9750552723227497\ttest f1: 0.40847587869646695\n"
          ],
          "name": "stdout"
        }
      ]
    },
    {
      "cell_type": "code",
      "metadata": {
        "id": "PdMP-VvLpxid"
      },
      "source": [
        "from sklearn.svm import SVC\n",
        "\n",
        "svm = SVC()\n",
        "param_svm = dict(\n",
        "    decision_function_shape = ['ovr'],\n",
        "    C = np.logspace(-6, 6, 30),\n",
        "    kernel = ['rbf']\n",
        ")\n",
        "\n",
        "svm_tuning = GridSearchCV(svm, param_svm, cv=5, scoring='f1_weighted', n_jobs=-1, return_train_score=True, refit=True)\n",
        "svm_scores = svm_tuning.fit(training_padded, training_labels_final)"
      ],
      "execution_count": 36,
      "outputs": []
    },
    {
      "cell_type": "code",
      "metadata": {
        "id": "lZXVICFHp3vC",
        "outputId": "dba2aa1e-832f-4d25-d101-1adf2964d8a0",
        "colab": {
          "base_uri": "https://localhost:8080/",
          "height": 537
        }
      },
      "source": [
        "for e, i in zip(svm_scores.cv_results_['mean_train_score'], svm_scores.cv_results_['mean_test_score']):\n",
        "  print('train acc: {}\\ttest acc: {}'.format(e,i))"
      ],
      "execution_count": 37,
      "outputs": [
        {
          "output_type": "stream",
          "text": [
            "train acc: 0.45002855511136486\ttest acc: 0.4504615384615384\n",
            "train acc: 0.45002855511136486\ttest acc: 0.4504615384615384\n",
            "train acc: 0.45002855511136486\ttest acc: 0.4504615384615384\n",
            "train acc: 0.45002855511136486\ttest acc: 0.4504615384615384\n",
            "train acc: 0.45002855511136486\ttest acc: 0.4504615384615384\n",
            "train acc: 0.45002855511136486\ttest acc: 0.4504615384615384\n",
            "train acc: 0.45002855511136486\ttest acc: 0.4504615384615384\n",
            "train acc: 0.45002855511136486\ttest acc: 0.4504615384615384\n",
            "train acc: 0.45002855511136486\ttest acc: 0.4504615384615384\n",
            "train acc: 0.45002855511136486\ttest acc: 0.4504615384615384\n",
            "train acc: 0.45002855511136486\ttest acc: 0.4504615384615384\n",
            "train acc: 0.45002855511136486\ttest acc: 0.4504615384615384\n",
            "train acc: 0.45002855511136486\ttest acc: 0.4504615384615384\n",
            "train acc: 0.4798297846832888\ttest acc: 0.4443076923076923\n",
            "train acc: 0.6050489629534359\ttest acc: 0.49366666666666664\n",
            "train acc: 0.9749976863276636\ttest acc: 0.6019018210050818\n",
            "train acc: 0.9749976863276636\ttest acc: 0.62164172783738\n",
            "train acc: 0.9749976863276636\ttest acc: 0.62164172783738\n",
            "train acc: 0.9749976863276636\ttest acc: 0.62164172783738\n",
            "train acc: 0.9749976863276636\ttest acc: 0.62164172783738\n",
            "train acc: 0.9749976863276636\ttest acc: 0.62164172783738\n",
            "train acc: 0.9749976863276636\ttest acc: 0.62164172783738\n",
            "train acc: 0.9749976863276636\ttest acc: 0.62164172783738\n",
            "train acc: 0.9749976863276636\ttest acc: 0.62164172783738\n",
            "train acc: 0.9749976863276636\ttest acc: 0.62164172783738\n",
            "train acc: 0.9749976863276636\ttest acc: 0.62164172783738\n",
            "train acc: 0.9749976863276636\ttest acc: 0.62164172783738\n",
            "train acc: 0.9749976863276636\ttest acc: 0.62164172783738\n",
            "train acc: 0.9749976863276636\ttest acc: 0.62164172783738\n",
            "train acc: 0.9749976863276636\ttest acc: 0.62164172783738\n"
          ],
          "name": "stdout"
        }
      ]
    },
    {
      "cell_type": "code",
      "metadata": {
        "id": "qIkye0AOp7vj"
      },
      "source": [
        "import xgboost as xgb\n",
        "xgb_model = xgb.XGBClassifier()"
      ],
      "execution_count": 38,
      "outputs": []
    },
    {
      "cell_type": "code",
      "metadata": {
        "id": "eql5lcHLp85q"
      },
      "source": [
        "params = dict(\n",
        "    n_estimators = [e for e in range(1,60,10)],\n",
        "    max_depth= [3,4],\n",
        "    objective= ['multi:softmax'], \n",
        "    learning_rate=[0.1],\n",
        "    rate_drop = [0],\n",
        "    n_jobs=[-1],\n",
        "    num_class= [3],\n",
        ")\n",
        "\n",
        "xgb_tuning = GridSearchCV(xgb_model, params, cv=5, scoring='f1_weighted', n_jobs=-1, return_train_score=True, refit=True)\n",
        "xgb_scores = xgb_tuning.fit(training_padded,training_labels_final)\n",
        "#xgb_scores.cv_results_['mean_test_score']"
      ],
      "execution_count": 39,
      "outputs": []
    },
    {
      "cell_type": "code",
      "metadata": {
        "id": "4o-iF0HIp-u7",
        "outputId": "c607f3c5-7d03-42f7-9666-aa42b91fade1",
        "colab": {
          "base_uri": "https://localhost:8080/",
          "height": 173
        }
      },
      "source": [
        "print(xgb_scores.best_score_)\n",
        "print(xgb_scores.best_estimator_)"
      ],
      "execution_count": 40,
      "outputs": [
        {
          "output_type": "stream",
          "text": [
            "0.6404222203235361\n",
            "XGBClassifier(base_score=0.5, booster='gbtree', colsample_bylevel=1,\n",
            "              colsample_bynode=1, colsample_bytree=1, gamma=0,\n",
            "              learning_rate=0.1, max_delta_step=0, max_depth=4,\n",
            "              min_child_weight=1, missing=None, n_estimators=51, n_jobs=-1,\n",
            "              nthread=None, num_class=3, objective='multi:softprob',\n",
            "              random_state=0, rate_drop=0, reg_alpha=0, reg_lambda=1,\n",
            "              scale_pos_weight=1, seed=None, silent=None, subsample=1,\n",
            "              verbosity=1)\n"
          ],
          "name": "stdout"
        }
      ]
    },
    {
      "cell_type": "code",
      "metadata": {
        "id": "h-moX7Shrk11",
        "outputId": "a24673e9-4d45-49fc-fe12-7d3d7fa34963",
        "colab": {
          "base_uri": "https://localhost:8080/",
          "height": 591
        }
      },
      "source": [
        "print(logit_scores.best_estimator_)\n",
        "y_pred_logit = logit_scores.predict(testing_padded)\n",
        "cm_logit = confusion_matrix(testing_labels_final, y_pred_logit)\n",
        "plt.figure(figsize=(18,8))\n",
        "sns.heatmap(cm_logit, annot=True)"
      ],
      "execution_count": 41,
      "outputs": [
        {
          "output_type": "stream",
          "text": [
            "LogisticRegression(C=0.03562247890262444, class_weight=None, dual=False,\n",
            "                   fit_intercept=True, intercept_scaling=1, l1_ratio=None,\n",
            "                   max_iter=100, multi_class='auto', n_jobs=None, penalty='l2',\n",
            "                   random_state=None, solver='lbfgs', tol=0.0001, verbose=0,\n",
            "                   warm_start=False)\n"
          ],
          "name": "stdout"
        },
        {
          "output_type": "execute_result",
          "data": {
            "text/plain": [
              "<matplotlib.axes._subplots.AxesSubplot at 0x7fb72aa6c9e8>"
            ]
          },
          "metadata": {
            "tags": []
          },
          "execution_count": 41
        },
        {
          "output_type": "display_data",
          "data": {
            "image/png": "[encoded data removed]",
            "text/plain": [
              "<Figure size 1296x576 with 2 Axes>"
            ]
          },
          "metadata": {
            "tags": [],
            "needs_background": "light"
          }
        }
      ]
    },
    {
      "cell_type": "code",
      "metadata": {
        "id": "aokLdbDzr3I3",
        "outputId": "7d834e03-d417-4b10-efdf-cb3edfcd99d0",
        "colab": {
          "base_uri": "https://localhost:8080/",
          "height": 87
        }
      },
      "source": [
        "print('Precision on test set: {}'.format(precision_score(testing_labels_final, y_pred_logit, average='weighted')))\n",
        "print('Recall on test set: {}'.format(recall_score(testing_labels_final, y_pred_logit, average='weighted')))\n",
        "print('F1-score on test set {}'.format(f1_score(testing_labels_final, y_pred_logit, average='weighted')))\n",
        "print('Accuracy test set {}'.format(accuracy_score(testing_labels_final, y_pred_logit)))"
      ],
      "execution_count": 42,
      "outputs": [
        {
          "output_type": "stream",
          "text": [
            "Precision on test set: 0.2566666666666667\n",
            "Recall on test set: 0.35\n",
            "F1-score on test set 0.2961538461538462\n",
            "Accuracy test set 0.35\n"
          ],
          "name": "stdout"
        }
      ]
    },
    {
      "cell_type": "code",
      "metadata": {
        "id": "u8GM-XP3sXSh",
        "outputId": "a1ccc55b-78dd-4778-b2c6-13abcfb22dae",
        "colab": {
          "base_uri": "https://localhost:8080/",
          "height": 87
        }
      },
      "source": [
        "print(svm_scores.best_estimator_)\n",
        "y_pred_svm = svm_scores.best_estimator_.predict(testing_padded)"
      ],
      "execution_count": 43,
      "outputs": [
        {
          "output_type": "stream",
          "text": [
            "SVC(C=4.175318936560401, break_ties=False, cache_size=200, class_weight=None,\n",
            "    coef0=0.0, decision_function_shape='ovr', degree=3, gamma='scale',\n",
            "    kernel='rbf', max_iter=-1, probability=False, random_state=None,\n",
            "    shrinking=True, tol=0.001, verbose=False)\n"
          ],
          "name": "stdout"
        }
      ]
    },
    {
      "cell_type": "code",
      "metadata": {
        "id": "CC8-_snvsczZ",
        "outputId": "8c72f19d-1002-4f96-cfd9-511510eb520a",
        "colab": {
          "base_uri": "https://localhost:8080/",
          "height": 505
        }
      },
      "source": [
        "cm_svm = confusion_matrix(testing_labels_final, y_pred_svm)\n",
        "plt.figure(figsize=(18,8))\n",
        "sns.heatmap(cm_svm, annot=True)"
      ],
      "execution_count": 44,
      "outputs": [
        {
          "output_type": "execute_result",
          "data": {
            "text/plain": [
              "<matplotlib.axes._subplots.AxesSubplot at 0x7fb72aa1a198>"
            ]
          },
          "metadata": {
            "tags": []
          },
          "execution_count": 44
        },
        {
          "output_type": "display_data",
          "data": {
            "image/png": "[encoded data removed]",
            "text/plain": [
              "<Figure size 1296x576 with 2 Axes>"
            ]
          },
          "metadata": {
            "tags": [],
            "needs_background": "light"
          }
        }
      ]
    },
    {
      "cell_type": "code",
      "metadata": {
        "id": "0XGNnJStschZ",
        "outputId": "9ef97237-5653-4c79-e134-93b056ec04ac",
        "colab": {
          "base_uri": "https://localhost:8080/",
          "height": 87
        }
      },
      "source": [
        "print('Precision on test set: {}'.format(precision_score(testing_labels_final, y_pred_svm, average='weighted')))\n",
        "print('Recall on test set: {}'.format(recall_score(testing_labels_final, y_pred_svm, average='weighted')))\n",
        "print('F1-score on test set {}'.format(f1_score(testing_labels_final, y_pred_svm, average='weighted')))\n",
        "print('Accuracy test set {}'.format(accuracy_score(testing_labels_final, y_pred_svm)))"
      ],
      "execution_count": 45,
      "outputs": [
        {
          "output_type": "stream",
          "text": [
            "Precision on test set: 0.275\n",
            "Recall on test set: 0.4\n",
            "F1-score on test set 0.3259259259259259\n",
            "Accuracy test set 0.4\n"
          ],
          "name": "stdout"
        }
      ]
    },
    {
      "cell_type": "code",
      "metadata": {
        "id": "4M33fJDMW3eu",
        "outputId": "e776b3ea-b3c7-43e2-8d92-36603d4ce9fc",
        "colab": {
          "base_uri": "https://localhost:8080/",
          "height": 156
        }
      },
      "source": [
        "print(xgb_scores.best_estimator_)\n",
        "y_pred_xgb = xgb_scores.best_estimator_.predict(testing_padded)"
      ],
      "execution_count": 46,
      "outputs": [
        {
          "output_type": "stream",
          "text": [
            "XGBClassifier(base_score=0.5, booster='gbtree', colsample_bylevel=1,\n",
            "              colsample_bynode=1, colsample_bytree=1, gamma=0,\n",
            "              learning_rate=0.1, max_delta_step=0, max_depth=4,\n",
            "              min_child_weight=1, missing=None, n_estimators=51, n_jobs=-1,\n",
            "              nthread=None, num_class=3, objective='multi:softprob',\n",
            "              random_state=0, rate_drop=0, reg_alpha=0, reg_lambda=1,\n",
            "              scale_pos_weight=1, seed=None, silent=None, subsample=1,\n",
            "              verbosity=1)\n"
          ],
          "name": "stdout"
        }
      ]
    },
    {
      "cell_type": "code",
      "metadata": {
        "id": "UxcQagg0Xqhp",
        "outputId": "ed9397d5-9d1c-4c1b-ca2c-5ff0594d281a",
        "colab": {
          "base_uri": "https://localhost:8080/",
          "height": 505
        }
      },
      "source": [
        "cm_xgb = confusion_matrix(testing_labels_final, y_pred_xgb)\n",
        "plt.figure(figsize=(18,8))\n",
        "sns.heatmap(cm_xgb, annot=True)"
      ],
      "execution_count": 47,
      "outputs": [
        {
          "output_type": "execute_result",
          "data": {
            "text/plain": [
              "<matplotlib.axes._subplots.AxesSubplot at 0x7fb72a9c0c18>"
            ]
          },
          "metadata": {
            "tags": []
          },
          "execution_count": 47
        },
        {
          "output_type": "display_data",
          "data": {
            "image/png": "[encoded data removed]",
            "text/plain": [
              "<Figure size 1296x576 with 2 Axes>"
            ]
          },
          "metadata": {
            "tags": [],
            "needs_background": "light"
          }
        }
      ]
    },
    {
      "cell_type": "code",
      "metadata": {
        "id": "GeXi7kplXx8Z",
        "outputId": "1e4a43e8-8632-459c-856f-5341b83c4a84",
        "colab": {
          "base_uri": "https://localhost:8080/",
          "height": 69
        }
      },
      "source": [
        "print('Precision on test set: {}'.format(precision_score(testing_labels_final, y_pred_xgb, average='weighted')))\n",
        "print('Recall on test set: {}'.format(recall_score(testing_labels_final, y_pred_xgb, average='weighted')))\n",
        "print('F1-score on test set {}'.format(f1_score(testing_labels_final, y_pred_xgb, average='weighted')))"
      ],
      "execution_count": 48,
      "outputs": [
        {
          "output_type": "stream",
          "text": [
            "Precision on test set: 0.33166666666666667\n",
            "Recall on test set: 0.4\n",
            "F1-score on test set 0.3561538461538462\n"
          ],
          "name": "stdout"
        }
      ]
    },
    {
      "cell_type": "code",
      "metadata": {
        "id": "UkDDM7fcb7Ul"
      },
      "source": [
        "df_test = pd.DataFrame(columns=['text'])\n",
        "for i, e in enumerate(test['url']):\n",
        "    try:\n",
        "      response = requests.get(e, verify=False).text\n",
        "    except:\n",
        "      pass\n",
        "    soup1 = BeautifulSoup(response, 'html.parser')\n",
        "    soup2 = soup1.getText()\n",
        "    df_test.loc[i] = soup2"
      ],
      "execution_count": null,
      "outputs": []
    },
    {
      "cell_type": "code",
      "metadata": {
        "id": "HamZJDnYfImD",
        "outputId": "b61c52fe-c046-4c88-8e67-856a3e4b5bbb",
        "colab": {
          "base_uri": "https://localhost:8080/",
          "height": 202
        }
      },
      "source": [
        "df_test.head()"
      ],
      "execution_count": 50,
      "outputs": [
        {
          "output_type": "execute_result",
          "data": {
            "text/html": [
              "<div>\n",
              "<style scoped>\n",
              "    .dataframe tbody tr th:only-of-type {\n",
              "        vertical-align: middle;\n",
              "    }\n",
              "\n",
              "    .dataframe tbody tr th {\n",
              "        vertical-align: top;\n",
              "    }\n",
              "\n",
              "    .dataframe thead th {\n",
              "        text-align: right;\n",
              "    }\n",
              "</style>\n",
              "<table border=\"1\" class=\"dataframe\">\n",
              "  <thead>\n",
              "    <tr style=\"text-align: right;\">\n",
              "      <th></th>\n",
              "      <th>text</th>\n",
              "    </tr>\n",
              "  </thead>\n",
              "  <tbody>\n",
              "    <tr>\n",
              "      <th>0</th>\n",
              "      <td>\\n\\n\\n\\n\\n\\n\\nBauchspeicheldrüse | Klinik für ...</td>\n",
              "    </tr>\n",
              "    <tr>\n",
              "      <th>1</th>\n",
              "      <td>\\n\\n\\n\\n\\n\\n\\n\\n\\n\\n\\n\\n\\n\\n\\nChirurgie der Ba...</td>\n",
              "    </tr>\n",
              "    <tr>\n",
              "      <th>2</th>\n",
              "      <td>\\n\\n\\n\\n\\nKreiskliniken Reutlingen - www.kreis...</td>\n",
              "    </tr>\n",
              "    <tr>\n",
              "      <th>3</th>\n",
              "      <td>\\n\\n\\n\\n\\n\\n\\nLeistungsspektrum: Sankt Marien-...</td>\n",
              "    </tr>\n",
              "    <tr>\n",
              "      <th>4</th>\n",
              "      <td>\\n\\n\\n\\n\\n\\n\\nLeistungsspektrum: Sankt Marien-...</td>\n",
              "    </tr>\n",
              "  </tbody>\n",
              "</table>\n",
              "</div>"
            ],
            "text/plain": [
              "                                                text\n",
              "0  \\n\\n\\n\\n\\n\\n\\nBauchspeicheldrüse | Klinik für ...\n",
              "1  \\n\\n\\n\\n\\n\\n\\n\\n\\n\\n\\n\\n\\n\\n\\nChirurgie der Ba...\n",
              "2  \\n\\n\\n\\n\\nKreiskliniken Reutlingen - www.kreis...\n",
              "3  \\n\\n\\n\\n\\n\\n\\nLeistungsspektrum: Sankt Marien-...\n",
              "4  \\n\\n\\n\\n\\n\\n\\nLeistungsspektrum: Sankt Marien-..."
            ]
          },
          "metadata": {
            "tags": []
          },
          "execution_count": 50
        }
      ]
    },
    {
      "cell_type": "code",
      "metadata": {
        "id": "JGk41cI_fVj2"
      },
      "source": [
        "df_test2 = pd.DataFrame(columns=['text'])\n",
        "for i,e in enumerate(df_test['text']):\n",
        "  df_test2.loc[i] = cleaning(e)"
      ],
      "execution_count": 51,
      "outputs": []
    },
    {
      "cell_type": "code",
      "metadata": {
        "id": "4wHx4_VAjESS",
        "outputId": "3d1cc011-1495-42e9-ed6c-b5a65792316d",
        "colab": {
          "base_uri": "https://localhost:8080/",
          "height": 202
        }
      },
      "source": [
        "df_test2.head()"
      ],
      "execution_count": 52,
      "outputs": [
        {
          "output_type": "execute_result",
          "data": {
            "text/html": [
              "<div>\n",
              "<style scoped>\n",
              "    .dataframe tbody tr th:only-of-type {\n",
              "        vertical-align: middle;\n",
              "    }\n",
              "\n",
              "    .dataframe tbody tr th {\n",
              "        vertical-align: top;\n",
              "    }\n",
              "\n",
              "    .dataframe thead th {\n",
              "        text-align: right;\n",
              "    }\n",
              "</style>\n",
              "<table border=\"1\" class=\"dataframe\">\n",
              "  <thead>\n",
              "    <tr style=\"text-align: right;\">\n",
              "      <th></th>\n",
              "      <th>text</th>\n",
              "    </tr>\n",
              "  </thead>\n",
              "  <tbody>\n",
              "    <tr>\n",
              "      <th>0</th>\n",
              "      <td>Bauchspeicheldr se Klinik f r Allgemein Visze...</td>\n",
              "    </tr>\n",
              "    <tr>\n",
              "      <th>1</th>\n",
              "      <td>Chirurgie der Bauchspeicheldr se Pankreaschir...</td>\n",
              "    </tr>\n",
              "    <tr>\n",
              "      <th>2</th>\n",
              "      <td>Kreiskliniken Reutlingen www kreiskliniken re...</td>\n",
              "    </tr>\n",
              "    <tr>\n",
              "      <th>3</th>\n",
              "      <td>Leistungsspektrum Sankt Marien Hospital Buer ...</td>\n",
              "    </tr>\n",
              "    <tr>\n",
              "      <th>4</th>\n",
              "      <td>Leistungsspektrum Sankt Marien Hospital Buer ...</td>\n",
              "    </tr>\n",
              "  </tbody>\n",
              "</table>\n",
              "</div>"
            ],
            "text/plain": [
              "                                                text\n",
              "0   Bauchspeicheldr se Klinik f r Allgemein Visze...\n",
              "1   Chirurgie der Bauchspeicheldr se Pankreaschir...\n",
              "2   Kreiskliniken Reutlingen www kreiskliniken re...\n",
              "3   Leistungsspektrum Sankt Marien Hospital Buer ...\n",
              "4   Leistungsspektrum Sankt Marien Hospital Buer ..."
            ]
          },
          "metadata": {
            "tags": []
          },
          "execution_count": 52
        }
      ]
    },
    {
      "cell_type": "code",
      "metadata": {
        "id": "HV7R1jW6fgVt"
      },
      "source": [
        "tok = []\n",
        "for e in df_test2['text']:\n",
        "  tok.append(nltk.tokenize.word_tokenize(e))\n",
        "df_test2['tokens'] = tok"
      ],
      "execution_count": 53,
      "outputs": []
    },
    {
      "cell_type": "code",
      "metadata": {
        "id": "hKKr4rbrjIzc"
      },
      "source": [
        "df_test2['tokens']"
      ],
      "execution_count": null,
      "outputs": []
    },
    {
      "cell_type": "code",
      "metadata": {
        "id": "t87N9C5dfiqi"
      },
      "source": [
        "filtered_list = []\n",
        "for e in range(len(df_test2)):\n",
        "  filtered_sentence = [w for w in df_test2['tokens'].loc[e] if not w in stop_words or stop_words_eng]\n",
        "  filtered_sentence = [w for w in df_test2['tokens'].loc[e] if not w.lower() in manuals]\n",
        "  print(filtered_sentence)\n",
        "  filtered_list.append(filtered_sentence)\n",
        "df_test2['filtered'] = filtered_list"
      ],
      "execution_count": null,
      "outputs": []
    },
    {
      "cell_type": "code",
      "metadata": {
        "id": "FH_HZvj5h9Yn"
      },
      "source": [
        "stem_list = []\n",
        "\n",
        "for e in range(len(df_test2)):\n",
        "  stem = []\n",
        "  for i in df_test2['filtered'].loc[e]:\n",
        "    stem.append(stemmer.stem(i))\n",
        "  stem_list.append(stem)\n",
        "\n",
        "df_test2['stem'] = stem_list"
      ],
      "execution_count": 56,
      "outputs": []
    },
    {
      "cell_type": "code",
      "metadata": {
        "id": "SObifVtCiFuI",
        "outputId": "84f376f7-4cff-4075-9dd5-c3b8c6e0fd76",
        "colab": {
          "base_uri": "https://localhost:8080/",
          "height": 867
        }
      },
      "source": [
        "df_test2['stem']"
      ],
      "execution_count": 57,
      "outputs": [
        {
          "output_type": "execute_result",
          "data": {
            "text/plain": [
              "0     [bauchspeicheldr, se, klinik, f, r, allgemein,...\n",
              "1     [chirurgi, der, bauchspeicheldr, se, pankreasc...\n",
              "2     [kreiskliniken, reutlingen, kreiskliniken, reu...\n",
              "3     [leistungsspektrum, sankt, marien, hospit, bue...\n",
              "4     [leistungsspektrum, sankt, marien, hospit, bue...\n",
              "5     [tumorzentrum, rostock, e, V, onkologisch, zen...\n",
              "6     [gyn, kologisch, tumor, asklepio, harzklinik, ...\n",
              "7     [interdisziplin, re, tumorkonferenzen, asklepi...\n",
              "8     [selbsthilfegruppen, krankenhau, barmherzig, B...\n",
              "9     [stereotaktisch, radiotherapi, krankenhau, bar...\n",
              "10                                                   []\n",
              "11    [chirurgi, nachrichten, universit, tsklinikum,...\n",
              "12    [startseit, carl, thiem, klinikum, cottbu, ggm...\n",
              "13    [onkologisch, zentrum, carl, thiem, klinikum, ...\n",
              "14    [anfahrt, darmkrebszentrum, die, behandlungsze...\n",
              "15    [drk, kliniken, berlin, leistungen, c, h, disp...\n",
              "16    [zielsetzung, evangelisch, klinikum, niederrhe...\n",
              "17    [ablauf, einer, strahlentherapi, zentrum, f, r...\n",
              "18    [gesundheit, nord, klinikverbund, bremen, seit...\n",
              "19    [home, station, re, versorgungallgemein, und, ...\n",
              "20    [startseit, gfo, kliniken, bonn, w, d, s, l, i...\n",
              "21    [gpr, w, d, s, l, i, w, l, w, l, w, l, gtm, st...\n",
              "22    [w, d, s, l, i, w, l, w, l, w, l, gtm, start, ...\n",
              "23    [w, d, s, l, i, w, l, w, l, w, l, gtm, start, ...\n",
              "24    [gelenkersatz, var, typoscriptconst, var, tran...\n",
              "25    [such, wir, ber, un, da, unternehmen, die, ges...\n",
              "26    [herzlich, willkommen, interdisziplin, re, end...\n",
              "27    [krankenhau, St, joseph, stift, dresden, PM, d...\n",
              "28    [pathologi, institut, A, Z, kliniken, und, fac...\n",
              "29    [sprechstunden, poliklinik, i, s, o, g, r, a, ...\n",
              "30    [fort, und, weiterbildung, radiologi, nuklearm...\n",
              "31    [unser, profil, gef, und, thoraxchirurgi, klin...\n",
              "32    [unser, profil, klinikum, esslingen, toggl, na...\n",
              "33    [klinikum, oberberg, rundum, gut, versorgt, im...\n",
              "34    [w, d, s, l, i, w, l, w, l, w, l, gtm, start, ...\n",
              "35    [alfri, krupp, krankenhau, D, nn, dick, und, m...\n",
              "36    [group, gtm, group, gtm, maltes, krankenhau, S...\n",
              "37    [leistungsspektrum, brustzentrum, var, typoscr...\n",
              "38    [universit, tsklinikum, hall, saal, startseit,...\n",
              "39    [goeth, universit, t, error, not, found, zur, ...\n",
              "40    [patienteninformationen, klinik, f, r, frauenh...\n",
              "41    [prosper, hospit, recklinghausen, seit, nicht,...\n",
              "42    [siemen, healthin, webseit, fehler, up, fehler...\n",
              "43    [zweitmeinung, warum, ein, weiter, einsch, tzu...\n",
              "44    [errorpag, bodi, font, famili, san, serif, doc...\n",
              "45    [tumorboard, de, lungenkrebszentrum, registers...\n",
              "46    [startseit, var, paq, window, paq, tracker, me...\n",
              "47    [klinik, f, r, allgemeinchirurgi, viszeralchir...\n",
              "Name: stem, dtype: object"
            ]
          },
          "metadata": {
            "tags": []
          },
          "execution_count": 57
        }
      ]
    },
    {
      "cell_type": "code",
      "metadata": {
        "id": "Yz9LL5EakQb7"
      },
      "source": [
        "sentences_test = []\n",
        "for i in range(len(df_test2)):\n",
        "  one_obs = ' '.join([e for e in df_test2['stem'].loc[i]])\n",
        "  sentences_test.append(one_obs)"
      ],
      "execution_count": 58,
      "outputs": []
    },
    {
      "cell_type": "code",
      "metadata": {
        "id": "zlTWIEgdkd91"
      },
      "source": [
        "sentences_test"
      ],
      "execution_count": null,
      "outputs": []
    },
    {
      "cell_type": "code",
      "metadata": {
        "id": "a5cfdu8Bjtt9"
      },
      "source": [
        "test_set_sequences = tokenizer.texts_to_sequences(training_sentences)\n",
        "test_set_padded = pad_sequences(test_set_sequences, maxlen=max_length, padding=padding_type, truncating=trunc_type)"
      ],
      "execution_count": 60,
      "outputs": []
    },
    {
      "cell_type": "code",
      "metadata": {
        "id": "qKTjDY5uk6Ii"
      },
      "source": [
        "test_set_padded = sc.fit_transform(test_set_padded)"
      ],
      "execution_count": 61,
      "outputs": []
    },
    {
      "cell_type": "code",
      "metadata": {
        "id": "QhE74pkdlNlM"
      },
      "source": [
        "final_pred = logit_scores.best_estimator_.predict(test_set_padded)"
      ],
      "execution_count": 62,
      "outputs": []
    },
    {
      "cell_type": "code",
      "metadata": {
        "id": "ihoHNs1ulVnA",
        "outputId": "7f19dc74-c30b-45f2-fb66-a5a6fa5fe71a",
        "colab": {
          "base_uri": "https://localhost:8080/",
          "height": 340
        }
      },
      "source": [
        "sns.countplot(final_pred)"
      ],
      "execution_count": 63,
      "outputs": [
        {
          "output_type": "stream",
          "text": [
            "/usr/local/lib/python3.6/dist-packages/seaborn/_decorators.py:43: FutureWarning: Pass the following variable as a keyword arg: x. From version 0.12, the only valid positional argument will be `data`, and passing other arguments without an explicit keyword will result in an error or misinterpretation.\n",
            "  FutureWarning\n"
          ],
          "name": "stderr"
        },
        {
          "output_type": "execute_result",
          "data": {
            "text/plain": [
              "<matplotlib.axes._subplots.AxesSubplot at 0x7fb71c6b3860>"
            ]
          },
          "metadata": {
            "tags": []
          },
          "execution_count": 63
        },
        {
          "output_type": "display_data",
          "data": {
            "image/png": "[encoded data removed]",
            "text/plain": [
              "<Figure size 432x288 with 1 Axes>"
            ]
          },
          "metadata": {
            "tags": [],
            "needs_background": "light"
          }
        }
      ]
    }
  ]
}