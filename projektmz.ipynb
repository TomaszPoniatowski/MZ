{
 "cells": [
  {
   "cell_type": "code",
   "execution_count": 70,
   "metadata": {},
   "outputs": [],
   "source": [
    "import pandas as pd\n",
    "import numpy as np\n",
    "import matplotlib.pyplot as plt\n",
    "import seaborn as sns\n",
    "plt.style.use('bmh')\n",
    "from datetime import datetime"
   ]
  },
  {
   "cell_type": "markdown",
   "metadata": {},
   "source": [
    "### Import"
   ]
  },
  {
   "cell_type": "code",
   "execution_count": 10,
   "metadata": {},
   "outputs": [],
   "source": [
    "udary = pd.read_csv('/Users/tomasz/Downloads/projekt MZ/dane_udary.csv', delimiter = ';', encoding='unicode_escape')\n",
    "historia = pd.read_csv('/Users/tomasz/Downloads/projekt MZ/historia_pacjenta_udarowego.csv', delimiter = ';', encoding='unicode_escape')\n",
    "#df = historia.join(udary, how = 'inner', on=('ID_PACJ', 'DATA_UDARU'))"
   ]
  },
  {
   "cell_type": "markdown",
   "metadata": {},
   "source": [
    "### Data things"
   ]
  },
  {
   "cell_type": "code",
   "execution_count": 11,
   "metadata": {},
   "outputs": [
    {
     "data": {
      "text/html": [
       "<div>\n",
       "<style scoped>\n",
       "    .dataframe tbody tr th:only-of-type {\n",
       "        vertical-align: middle;\n",
       "    }\n",
       "\n",
       "    .dataframe tbody tr th {\n",
       "        vertical-align: top;\n",
       "    }\n",
       "\n",
       "    .dataframe thead th {\n",
       "        text-align: right;\n",
       "    }\n",
       "</style>\n",
       "<table border=\"1\" class=\"dataframe\">\n",
       "  <thead>\n",
       "    <tr style=\"text-align: right;\">\n",
       "      <th></th>\n",
       "      <th>DATA_UDARU</th>\n",
       "      <th>DATA_WYPISU</th>\n",
       "      <th>ID_PACJ</th>\n",
       "      <th>PLEC</th>\n",
       "      <th>TERYT_KOMORKI</th>\n",
       "      <th>TERYT_PACJ</th>\n",
       "      <th>WIEK</th>\n",
       "      <th>CZAS_DO_ZGONU</th>\n",
       "      <th>PONOWNY_UDAR_90_DNI</th>\n",
       "      <th>TROMBOLIZA</th>\n",
       "    </tr>\n",
       "  </thead>\n",
       "  <tbody>\n",
       "    <tr>\n",
       "      <th>0</th>\n",
       "      <td>2016-04-09</td>\n",
       "      <td>2016-04-20</td>\n",
       "      <td>7290B1CF5A592044A14AF36D4E33C4F1</td>\n",
       "      <td>M</td>\n",
       "      <td>264039</td>\n",
       "      <td>1415042</td>\n",
       "      <td>45</td>\n",
       "      <td>-1</td>\n",
       "      <td>True</td>\n",
       "      <td>1</td>\n",
       "    </tr>\n",
       "    <tr>\n",
       "      <th>1</th>\n",
       "      <td>2016-02-27</td>\n",
       "      <td>2016-03-25</td>\n",
       "      <td>1ADF5DAB414DF2CE3E4B1F5045F3F8A9</td>\n",
       "      <td>K</td>\n",
       "      <td>262011</td>\n",
       "      <td>262011</td>\n",
       "      <td>68</td>\n",
       "      <td>153</td>\n",
       "      <td>False</td>\n",
       "      <td>0</td>\n",
       "    </tr>\n",
       "    <tr>\n",
       "      <th>2</th>\n",
       "      <td>2016-02-14</td>\n",
       "      <td>2016-02-25</td>\n",
       "      <td>97F6E19A57BC07E300F9096F3138618A</td>\n",
       "      <td>M</td>\n",
       "      <td>264029</td>\n",
       "      <td>264059</td>\n",
       "      <td>78</td>\n",
       "      <td>0</td>\n",
       "      <td>False</td>\n",
       "      <td>0</td>\n",
       "    </tr>\n",
       "    <tr>\n",
       "      <th>3</th>\n",
       "      <td>2016-10-13</td>\n",
       "      <td>2016-10-17</td>\n",
       "      <td>DC07BF5356FF0F9DBC1067B9A176014C</td>\n",
       "      <td>K</td>\n",
       "      <td>210011</td>\n",
       "      <td>1432022</td>\n",
       "      <td>61</td>\n",
       "      <td>-1</td>\n",
       "      <td>True</td>\n",
       "      <td>0</td>\n",
       "    </tr>\n",
       "    <tr>\n",
       "      <th>4</th>\n",
       "      <td>2016-12-22</td>\n",
       "      <td>2016-12-22</td>\n",
       "      <td>862D3038D0268542584832344E26963B</td>\n",
       "      <td>M</td>\n",
       "      <td>264029</td>\n",
       "      <td>216054</td>\n",
       "      <td>44</td>\n",
       "      <td>-1</td>\n",
       "      <td>False</td>\n",
       "      <td>0</td>\n",
       "    </tr>\n",
       "  </tbody>\n",
       "</table>\n",
       "</div>"
      ],
      "text/plain": [
       "   DATA_UDARU DATA_WYPISU                           ID_PACJ PLEC  \\\n",
       "0  2016-04-09  2016-04-20  7290B1CF5A592044A14AF36D4E33C4F1    M   \n",
       "1  2016-02-27  2016-03-25  1ADF5DAB414DF2CE3E4B1F5045F3F8A9    K   \n",
       "2  2016-02-14  2016-02-25  97F6E19A57BC07E300F9096F3138618A    M   \n",
       "3  2016-10-13  2016-10-17  DC07BF5356FF0F9DBC1067B9A176014C    K   \n",
       "4  2016-12-22  2016-12-22  862D3038D0268542584832344E26963B    M   \n",
       "\n",
       "   TERYT_KOMORKI  TERYT_PACJ  WIEK  CZAS_DO_ZGONU  PONOWNY_UDAR_90_DNI  \\\n",
       "0         264039     1415042    45             -1                 True   \n",
       "1         262011      262011    68            153                False   \n",
       "2         264029      264059    78              0                False   \n",
       "3         210011     1432022    61             -1                 True   \n",
       "4         264029      216054    44             -1                False   \n",
       "\n",
       "   TROMBOLIZA  \n",
       "0           1  \n",
       "1           0  \n",
       "2           0  \n",
       "3           0  \n",
       "4           0  "
      ]
     },
     "execution_count": 11,
     "metadata": {},
     "output_type": "execute_result"
    }
   ],
   "source": [
    "udary.head()"
   ]
  },
  {
   "cell_type": "code",
   "execution_count": 14,
   "metadata": {},
   "outputs": [
    {
     "data": {
      "text/html": [
       "<div>\n",
       "<style scoped>\n",
       "    .dataframe tbody tr th:only-of-type {\n",
       "        vertical-align: middle;\n",
       "    }\n",
       "\n",
       "    .dataframe tbody tr th {\n",
       "        vertical-align: top;\n",
       "    }\n",
       "\n",
       "    .dataframe thead th {\n",
       "        text-align: right;\n",
       "    }\n",
       "</style>\n",
       "<table border=\"1\" class=\"dataframe\">\n",
       "  <thead>\n",
       "    <tr style=\"text-align: right;\">\n",
       "      <th></th>\n",
       "      <th>ID_PACJ</th>\n",
       "      <th>DATA_ROZPOZNANIA</th>\n",
       "      <th>DATA_UDARU</th>\n",
       "      <th>DNI_PRZED_UDAREM</th>\n",
       "      <th>KATEGORIA_ROZPOZNANIA</th>\n",
       "    </tr>\n",
       "  </thead>\n",
       "  <tbody>\n",
       "    <tr>\n",
       "      <th>0</th>\n",
       "      <td>1ADF5DAB414DF2CE3E4B1F5045F3F8A9</td>\n",
       "      <td>2014-10-16</td>\n",
       "      <td>2016-02-27</td>\n",
       "      <td>499.0</td>\n",
       "      <td>Inne choroby uk³adu oddechowego</td>\n",
       "    </tr>\n",
       "    <tr>\n",
       "      <th>1</th>\n",
       "      <td>1ADF5DAB414DF2CE3E4B1F5045F3F8A9</td>\n",
       "      <td>2015-09-07</td>\n",
       "      <td>2016-02-27</td>\n",
       "      <td>173.0</td>\n",
       "      <td>Inne choroby uk³adu oddechowego</td>\n",
       "    </tr>\n",
       "    <tr>\n",
       "      <th>2</th>\n",
       "      <td>F8687B51A92264337C803BBD80830C0F</td>\n",
       "      <td>2014-11-21</td>\n",
       "      <td>2016-06-24</td>\n",
       "      <td>581.0</td>\n",
       "      <td>Inne choroby uk³adu oddechowego</td>\n",
       "    </tr>\n",
       "    <tr>\n",
       "      <th>3</th>\n",
       "      <td>B31824C53493B293C324D308DCBCC036</td>\n",
       "      <td>2014-03-05</td>\n",
       "      <td>2016-01-03</td>\n",
       "      <td>669.0</td>\n",
       "      <td>Inne choroby uk³adu oddechowego</td>\n",
       "    </tr>\n",
       "    <tr>\n",
       "      <th>4</th>\n",
       "      <td>B31824C53493B293C324D308DCBCC036</td>\n",
       "      <td>2015-03-02</td>\n",
       "      <td>2016-01-03</td>\n",
       "      <td>307.0</td>\n",
       "      <td>Inne choroby uk³adu oddechowego</td>\n",
       "    </tr>\n",
       "  </tbody>\n",
       "</table>\n",
       "</div>"
      ],
      "text/plain": [
       "                            ID_PACJ DATA_ROZPOZNANIA  DATA_UDARU  \\\n",
       "0  1ADF5DAB414DF2CE3E4B1F5045F3F8A9       2014-10-16  2016-02-27   \n",
       "1  1ADF5DAB414DF2CE3E4B1F5045F3F8A9       2015-09-07  2016-02-27   \n",
       "2  F8687B51A92264337C803BBD80830C0F       2014-11-21  2016-06-24   \n",
       "3  B31824C53493B293C324D308DCBCC036       2014-03-05  2016-01-03   \n",
       "4  B31824C53493B293C324D308DCBCC036       2015-03-02  2016-01-03   \n",
       "\n",
       "   DNI_PRZED_UDAREM            KATEGORIA_ROZPOZNANIA  \n",
       "0             499.0  Inne choroby uk³adu oddechowego  \n",
       "1             173.0  Inne choroby uk³adu oddechowego  \n",
       "2             581.0  Inne choroby uk³adu oddechowego  \n",
       "3             669.0  Inne choroby uk³adu oddechowego  \n",
       "4             307.0  Inne choroby uk³adu oddechowego  "
      ]
     },
     "execution_count": 14,
     "metadata": {},
     "output_type": "execute_result"
    }
   ],
   "source": [
    "historia.head()"
   ]
  },
  {
   "cell_type": "code",
   "execution_count": 22,
   "metadata": {},
   "outputs": [
    {
     "data": {
      "text/html": [
       "<div>\n",
       "<style scoped>\n",
       "    .dataframe tbody tr th:only-of-type {\n",
       "        vertical-align: middle;\n",
       "    }\n",
       "\n",
       "    .dataframe tbody tr th {\n",
       "        vertical-align: top;\n",
       "    }\n",
       "\n",
       "    .dataframe thead th {\n",
       "        text-align: right;\n",
       "    }\n",
       "</style>\n",
       "<table border=\"1\" class=\"dataframe\">\n",
       "  <thead>\n",
       "    <tr style=\"text-align: right;\">\n",
       "      <th></th>\n",
       "      <th>DATA_UDARU</th>\n",
       "      <th>DATA_WYPISU</th>\n",
       "      <th>ID_PACJ</th>\n",
       "      <th>PLEC</th>\n",
       "      <th>TERYT_KOMORKI</th>\n",
       "      <th>TERYT_PACJ</th>\n",
       "      <th>WIEK</th>\n",
       "      <th>CZAS_DO_ZGONU</th>\n",
       "      <th>PONOWNY_UDAR_90_DNI</th>\n",
       "      <th>TROMBOLIZA</th>\n",
       "      <th>ZGON</th>\n",
       "    </tr>\n",
       "  </thead>\n",
       "  <tbody>\n",
       "    <tr>\n",
       "      <th>0</th>\n",
       "      <td>2016-04-09</td>\n",
       "      <td>2016-04-20</td>\n",
       "      <td>7290B1CF5A592044A14AF36D4E33C4F1</td>\n",
       "      <td>M</td>\n",
       "      <td>264039</td>\n",
       "      <td>1415042</td>\n",
       "      <td>45</td>\n",
       "      <td>-1</td>\n",
       "      <td>True</td>\n",
       "      <td>1</td>\n",
       "      <td>0</td>\n",
       "    </tr>\n",
       "    <tr>\n",
       "      <th>1</th>\n",
       "      <td>2016-02-27</td>\n",
       "      <td>2016-03-25</td>\n",
       "      <td>1ADF5DAB414DF2CE3E4B1F5045F3F8A9</td>\n",
       "      <td>K</td>\n",
       "      <td>262011</td>\n",
       "      <td>262011</td>\n",
       "      <td>68</td>\n",
       "      <td>153</td>\n",
       "      <td>False</td>\n",
       "      <td>0</td>\n",
       "      <td>1</td>\n",
       "    </tr>\n",
       "    <tr>\n",
       "      <th>2</th>\n",
       "      <td>2016-02-14</td>\n",
       "      <td>2016-02-25</td>\n",
       "      <td>97F6E19A57BC07E300F9096F3138618A</td>\n",
       "      <td>M</td>\n",
       "      <td>264029</td>\n",
       "      <td>264059</td>\n",
       "      <td>78</td>\n",
       "      <td>0</td>\n",
       "      <td>False</td>\n",
       "      <td>0</td>\n",
       "      <td>0</td>\n",
       "    </tr>\n",
       "    <tr>\n",
       "      <th>3</th>\n",
       "      <td>2016-10-13</td>\n",
       "      <td>2016-10-17</td>\n",
       "      <td>DC07BF5356FF0F9DBC1067B9A176014C</td>\n",
       "      <td>K</td>\n",
       "      <td>210011</td>\n",
       "      <td>1432022</td>\n",
       "      <td>61</td>\n",
       "      <td>-1</td>\n",
       "      <td>True</td>\n",
       "      <td>0</td>\n",
       "      <td>0</td>\n",
       "    </tr>\n",
       "    <tr>\n",
       "      <th>4</th>\n",
       "      <td>2016-12-22</td>\n",
       "      <td>2016-12-22</td>\n",
       "      <td>862D3038D0268542584832344E26963B</td>\n",
       "      <td>M</td>\n",
       "      <td>264029</td>\n",
       "      <td>216054</td>\n",
       "      <td>44</td>\n",
       "      <td>-1</td>\n",
       "      <td>False</td>\n",
       "      <td>0</td>\n",
       "      <td>0</td>\n",
       "    </tr>\n",
       "  </tbody>\n",
       "</table>\n",
       "</div>"
      ],
      "text/plain": [
       "   DATA_UDARU DATA_WYPISU                           ID_PACJ PLEC  \\\n",
       "0  2016-04-09  2016-04-20  7290B1CF5A592044A14AF36D4E33C4F1    M   \n",
       "1  2016-02-27  2016-03-25  1ADF5DAB414DF2CE3E4B1F5045F3F8A9    K   \n",
       "2  2016-02-14  2016-02-25  97F6E19A57BC07E300F9096F3138618A    M   \n",
       "3  2016-10-13  2016-10-17  DC07BF5356FF0F9DBC1067B9A176014C    K   \n",
       "4  2016-12-22  2016-12-22  862D3038D0268542584832344E26963B    M   \n",
       "\n",
       "   TERYT_KOMORKI  TERYT_PACJ  WIEK  CZAS_DO_ZGONU  PONOWNY_UDAR_90_DNI  \\\n",
       "0         264039     1415042    45             -1                 True   \n",
       "1         262011      262011    68            153                False   \n",
       "2         264029      264059    78              0                False   \n",
       "3         210011     1432022    61             -1                 True   \n",
       "4         264029      216054    44             -1                False   \n",
       "\n",
       "   TROMBOLIZA  ZGON  \n",
       "0           1     0  \n",
       "1           0     1  \n",
       "2           0     0  \n",
       "3           0     0  \n",
       "4           0     0  "
      ]
     },
     "execution_count": 22,
     "metadata": {},
     "output_type": "execute_result"
    }
   ],
   "source": [
    "udary['ZGON'] = np.where(udary['CZAS_DO_ZGONU']>0, 1, 0)"
   ]
  },
  {
   "cell_type": "markdown",
   "metadata": {},
   "source": [
    "### Objects to datetime"
   ]
  },
  {
   "cell_type": "code",
   "execution_count": 71,
   "metadata": {},
   "outputs": [
    {
     "ename": "TypeError",
     "evalue": "cannot convert the series to <class 'int'>",
     "output_type": "error",
     "traceback": [
      "\u001b[0;31m---------------------------------------------------------------------------\u001b[0m",
      "\u001b[0;31mTypeError\u001b[0m                                 Traceback (most recent call last)",
      "\u001b[0;32m<ipython-input-71-66ed2adb724a>\u001b[0m in \u001b[0;36m<module>\u001b[0;34m\u001b[0m\n\u001b[1;32m      1\u001b[0m \u001b[0mudary\u001b[0m\u001b[0;34m[\u001b[0m\u001b[0;34m'DATA_WYPISU'\u001b[0m\u001b[0;34m]\u001b[0m \u001b[0;34m=\u001b[0m \u001b[0mpd\u001b[0m\u001b[0;34m.\u001b[0m\u001b[0mto_datetime\u001b[0m\u001b[0;34m(\u001b[0m\u001b[0mudary\u001b[0m\u001b[0;34m[\u001b[0m\u001b[0;34m'DATA_WYPISU'\u001b[0m\u001b[0;34m]\u001b[0m\u001b[0;34m)\u001b[0m\u001b[0;34m\u001b[0m\u001b[0;34m\u001b[0m\u001b[0m\n\u001b[1;32m      2\u001b[0m \u001b[0mudary\u001b[0m\u001b[0;34m[\u001b[0m\u001b[0;34m'DATA_UDARU'\u001b[0m\u001b[0;34m]\u001b[0m \u001b[0;34m=\u001b[0m \u001b[0mpd\u001b[0m\u001b[0;34m.\u001b[0m\u001b[0mto_datetime\u001b[0m\u001b[0;34m(\u001b[0m\u001b[0mudary\u001b[0m\u001b[0;34m[\u001b[0m\u001b[0;34m'DATA_WYPISU'\u001b[0m\u001b[0;34m]\u001b[0m\u001b[0;34m)\u001b[0m\u001b[0;34m\u001b[0m\u001b[0;34m\u001b[0m\u001b[0m\n\u001b[0;32m----> 3\u001b[0;31m \u001b[0mudary\u001b[0m\u001b[0;34m[\u001b[0m\u001b[0;34m'CZAS_W_SZPITALU'\u001b[0m\u001b[0;34m]\u001b[0m \u001b[0;34m=\u001b[0m \u001b[0mdatetime\u001b[0m\u001b[0;34m(\u001b[0m\u001b[0mudary\u001b[0m\u001b[0;34m[\u001b[0m\u001b[0;34m'DATA_WYPISU'\u001b[0m\u001b[0;34m]\u001b[0m\u001b[0;34m)\u001b[0m \u001b[0;34m-\u001b[0m \u001b[0mdatetime\u001b[0m\u001b[0;34m(\u001b[0m\u001b[0mudary\u001b[0m\u001b[0;34m[\u001b[0m\u001b[0;34m'DATA_UDARU'\u001b[0m\u001b[0;34m]\u001b[0m\u001b[0;34m)\u001b[0m\u001b[0;34m\u001b[0m\u001b[0;34m\u001b[0m\u001b[0m\n\u001b[0m",
      "\u001b[0;32m~/anaconda3/lib/python3.7/site-packages/pandas/core/series.py\u001b[0m in \u001b[0;36mwrapper\u001b[0;34m(self)\u001b[0m\n\u001b[1;32m    116\u001b[0m             \u001b[0;32mreturn\u001b[0m \u001b[0mconverter\u001b[0m\u001b[0;34m(\u001b[0m\u001b[0mself\u001b[0m\u001b[0;34m.\u001b[0m\u001b[0miloc\u001b[0m\u001b[0;34m[\u001b[0m\u001b[0;36m0\u001b[0m\u001b[0;34m]\u001b[0m\u001b[0;34m)\u001b[0m\u001b[0;34m\u001b[0m\u001b[0;34m\u001b[0m\u001b[0m\n\u001b[1;32m    117\u001b[0m         raise TypeError(\"cannot convert the series to \"\n\u001b[0;32m--> 118\u001b[0;31m                         \"{0}\".format(str(converter)))\n\u001b[0m\u001b[1;32m    119\u001b[0m \u001b[0;34m\u001b[0m\u001b[0m\n\u001b[1;32m    120\u001b[0m     \u001b[0;32mreturn\u001b[0m \u001b[0mwrapper\u001b[0m\u001b[0;34m\u001b[0m\u001b[0;34m\u001b[0m\u001b[0m\n",
      "\u001b[0;31mTypeError\u001b[0m: cannot convert the series to <class 'int'>"
     ]
    }
   ],
   "source": [
    "udary['DATA_WYPISU'] = pd.to_datetime(udary['DATA_WYPISU'])\n",
    "udary['DATA_UDARU'] = pd.to_datetime(udary['DATA_WYPISU'])\n"
   ]
  },
  {
   "cell_type": "markdown",
   "metadata": {},
   "source": [
    "### Plots"
   ]
  },
  {
   "cell_type": "code",
   "execution_count": 63,
   "metadata": {},
   "outputs": [
    {
     "data": {
      "text/plain": [
       "<matplotlib.axes._subplots.AxesSubplot at 0x1a25ad9160>"
      ]
     },
     "execution_count": 63,
     "metadata": {},
     "output_type": "execute_result"
    },
    {
     "data": {
      "image/png": "[encoded data removed]",
      "text/plain": [
       "<Figure size 432x288 with 1 Axes>"
      ]
     },
     "metadata": {},
     "output_type": "display_data"
    }
   ],
   "source": [
    "sns.countplot(udary['PLEC'])"
   ]
  },
  {
   "cell_type": "code",
   "execution_count": 64,
   "metadata": {},
   "outputs": [
    {
     "data": {
      "text/plain": [
       "Text(0.5, 1.0, 'Histogram of age')"
      ]
     },
     "execution_count": 64,
     "metadata": {},
     "output_type": "execute_result"
    },
    {
     "data": {
      "image/png": "[encoded data removed]",
      "text/plain": [
       "<Figure size 432x288 with 1 Axes>"
      ]
     },
     "metadata": {},
     "output_type": "display_data"
    }
   ],
   "source": [
    "plt.hist(udary['WIEK'], bins=25)\n",
    "plt.xlabel('Age')\n",
    "plt.ylabel('Count')\n",
    "plt.title('Histogram of age')"
   ]
  },
  {
   "cell_type": "code",
   "execution_count": 68,
   "metadata": {},
   "outputs": [
    {
     "data": {
      "text/plain": [
       "0 days    147861\n",
       "Name: CZAS_W_SZPITALU, dtype: int64"
      ]
     },
     "execution_count": 68,
     "metadata": {},
     "output_type": "execute_result"
    }
   ],
   "source": [
    "udary['CZAS_W_SZPITALU'].value_counts()"
   ]
  }
 ],
 "metadata": {
  "kernelspec": {
   "display_name": "Python 3",
   "language": "python",
   "name": "python3"
  },
  "language_info": {
   "codemirror_mode": {
    "name": "ipython",
    "version": 3
   },
   "file_extension": ".py",
   "mimetype": "text/x-python",
   "name": "python",
   "nbconvert_exporter": "python",
   "pygments_lexer": "ipython3",
   "version": "3.7.1"
  }
 },
 "nbformat": 4,
 "nbformat_minor": 2
}
